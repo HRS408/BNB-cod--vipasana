{
  "cells": [
    {
      "cell_type": "markdown",
      "metadata": {
        "id": "view-in-github",
        "colab_type": "text"
      },
      "source": [
        "<a href=\"https://colab.research.google.com/github/HRS408/BNB-cod--vipasana/blob/main/harshnimavat408_(Dec_12%2C_2024%2C_10_15_41%E2%80%AFAM).ipynb\" target=\"_parent\"><img src=\"https://colab.research.google.com/assets/colab-badge.svg\" alt=\"Open In Colab\"/></a>"
      ]
    },
    {
      "cell_type": "markdown",
      "source": [],
      "metadata": {
        "id": "c2w108SHpH7g"
      },
      "id": "c2w108SHpH7g"
    },
    {
      "cell_type": "code",
      "id": "MO71UksOuYyF0wVgxhcDctLq",
      "metadata": {
        "tags": [],
        "id": "MO71UksOuYyF0wVgxhcDctLq",
        "colab": {
          "base_uri": "https://localhost:8080/",
          "height": 1000
        },
        "outputId": "d8af2e15-ad99-4b92-f375-5b2d7e713fc4",
        "collapsed": true
      },
      "source": [
        "!pip3 install --upgrade --user google-cloud-aiplatform\n",
        "\n",
        "!pip3 install --upgrade --user google-cloud-aiplatform pymupdf"
      ],
      "execution_count": null,
      "outputs": [
        {
          "output_type": "stream",
          "name": "stdout",
          "text": [
            "Requirement already satisfied: google-cloud-aiplatform in /usr/local/lib/python3.10/dist-packages (1.71.1)\n",
            "Collecting google-cloud-aiplatform\n",
            "  Downloading google_cloud_aiplatform-1.74.0-py2.py3-none-any.whl.metadata (31 kB)\n",
            "Requirement already satisfied: google-api-core!=2.0.*,!=2.1.*,!=2.2.*,!=2.3.*,!=2.4.*,!=2.5.*,!=2.6.*,!=2.7.*,<3.0.0dev,>=1.34.1 in /usr/local/lib/python3.10/dist-packages (from google-api-core[grpc]!=2.0.*,!=2.1.*,!=2.2.*,!=2.3.*,!=2.4.*,!=2.5.*,!=2.6.*,!=2.7.*,<3.0.0dev,>=1.34.1->google-cloud-aiplatform) (2.19.2)\n",
            "Requirement already satisfied: google-auth<3.0.0dev,>=2.14.1 in /usr/local/lib/python3.10/dist-packages (from google-cloud-aiplatform) (2.27.0)\n",
            "Requirement already satisfied: proto-plus<2.0.0dev,>=1.22.3 in /usr/local/lib/python3.10/dist-packages (from google-cloud-aiplatform) (1.25.0)\n",
            "Requirement already satisfied: protobuf!=4.21.0,!=4.21.1,!=4.21.2,!=4.21.3,!=4.21.4,!=4.21.5,<6.0.0dev,>=3.20.2 in /usr/local/lib/python3.10/dist-packages (from google-cloud-aiplatform) (4.25.5)\n",
            "Requirement already satisfied: packaging>=14.3 in /usr/local/lib/python3.10/dist-packages (from google-cloud-aiplatform) (24.2)\n",
            "Requirement already satisfied: google-cloud-storage<3.0.0dev,>=1.32.0 in /usr/local/lib/python3.10/dist-packages (from google-cloud-aiplatform) (2.8.0)\n",
            "Requirement already satisfied: google-cloud-bigquery!=3.20.0,<4.0.0dev,>=1.15.0 in /usr/local/lib/python3.10/dist-packages (from google-cloud-aiplatform) (3.25.0)\n",
            "Requirement already satisfied: google-cloud-resource-manager<3.0.0dev,>=1.3.3 in /usr/local/lib/python3.10/dist-packages (from google-cloud-aiplatform) (1.13.1)\n",
            "Requirement already satisfied: shapely<3.0.0dev in /usr/local/lib/python3.10/dist-packages (from google-cloud-aiplatform) (2.0.6)\n",
            "Requirement already satisfied: pydantic<3 in /usr/local/lib/python3.10/dist-packages (from google-cloud-aiplatform) (2.10.2)\n",
            "Requirement already satisfied: docstring-parser<1 in /usr/local/lib/python3.10/dist-packages (from google-cloud-aiplatform) (0.16)\n",
            "Requirement already satisfied: googleapis-common-protos<2.0.dev0,>=1.56.2 in /usr/local/lib/python3.10/dist-packages (from google-api-core!=2.0.*,!=2.1.*,!=2.2.*,!=2.3.*,!=2.4.*,!=2.5.*,!=2.6.*,!=2.7.*,<3.0.0dev,>=1.34.1->google-api-core[grpc]!=2.0.*,!=2.1.*,!=2.2.*,!=2.3.*,!=2.4.*,!=2.5.*,!=2.6.*,!=2.7.*,<3.0.0dev,>=1.34.1->google-cloud-aiplatform) (1.66.0)\n",
            "Requirement already satisfied: requests<3.0.0.dev0,>=2.18.0 in /usr/local/lib/python3.10/dist-packages (from google-api-core!=2.0.*,!=2.1.*,!=2.2.*,!=2.3.*,!=2.4.*,!=2.5.*,!=2.6.*,!=2.7.*,<3.0.0dev,>=1.34.1->google-api-core[grpc]!=2.0.*,!=2.1.*,!=2.2.*,!=2.3.*,!=2.4.*,!=2.5.*,!=2.6.*,!=2.7.*,<3.0.0dev,>=1.34.1->google-cloud-aiplatform) (2.32.3)\n",
            "Requirement already satisfied: grpcio<2.0dev,>=1.33.2 in /usr/local/lib/python3.10/dist-packages (from google-api-core[grpc]!=2.0.*,!=2.1.*,!=2.2.*,!=2.3.*,!=2.4.*,!=2.5.*,!=2.6.*,!=2.7.*,<3.0.0dev,>=1.34.1->google-cloud-aiplatform) (1.68.1)\n",
            "Requirement already satisfied: grpcio-status<2.0.dev0,>=1.33.2 in /usr/local/lib/python3.10/dist-packages (from google-api-core[grpc]!=2.0.*,!=2.1.*,!=2.2.*,!=2.3.*,!=2.4.*,!=2.5.*,!=2.6.*,!=2.7.*,<3.0.0dev,>=1.34.1->google-cloud-aiplatform) (1.62.3)\n",
            "Requirement already satisfied: cachetools<6.0,>=2.0.0 in /usr/local/lib/python3.10/dist-packages (from google-auth<3.0.0dev,>=2.14.1->google-cloud-aiplatform) (5.5.0)\n",
            "Requirement already satisfied: pyasn1-modules>=0.2.1 in /usr/local/lib/python3.10/dist-packages (from google-auth<3.0.0dev,>=2.14.1->google-cloud-aiplatform) (0.4.1)\n",
            "Requirement already satisfied: rsa<5,>=3.1.4 in /usr/local/lib/python3.10/dist-packages (from google-auth<3.0.0dev,>=2.14.1->google-cloud-aiplatform) (4.9)\n",
            "Requirement already satisfied: google-cloud-core<3.0.0dev,>=1.6.0 in /usr/local/lib/python3.10/dist-packages (from google-cloud-bigquery!=3.20.0,<4.0.0dev,>=1.15.0->google-cloud-aiplatform) (2.4.1)\n",
            "Requirement already satisfied: google-resumable-media<3.0dev,>=0.6.0 in /usr/local/lib/python3.10/dist-packages (from google-cloud-bigquery!=3.20.0,<4.0.0dev,>=1.15.0->google-cloud-aiplatform) (2.7.2)\n",
            "Requirement already satisfied: python-dateutil<3.0dev,>=2.7.2 in /usr/local/lib/python3.10/dist-packages (from google-cloud-bigquery!=3.20.0,<4.0.0dev,>=1.15.0->google-cloud-aiplatform) (2.8.2)\n",
            "Requirement already satisfied: grpc-google-iam-v1<1.0.0dev,>=0.12.4 in /usr/local/lib/python3.10/dist-packages (from google-cloud-resource-manager<3.0.0dev,>=1.3.3->google-cloud-aiplatform) (0.13.1)\n",
            "Requirement already satisfied: annotated-types>=0.6.0 in /usr/local/lib/python3.10/dist-packages (from pydantic<3->google-cloud-aiplatform) (0.7.0)\n",
            "Requirement already satisfied: pydantic-core==2.27.1 in /usr/local/lib/python3.10/dist-packages (from pydantic<3->google-cloud-aiplatform) (2.27.1)\n",
            "Requirement already satisfied: typing-extensions>=4.12.2 in /usr/local/lib/python3.10/dist-packages (from pydantic<3->google-cloud-aiplatform) (4.12.2)\n",
            "Requirement already satisfied: numpy<3,>=1.14 in /usr/local/lib/python3.10/dist-packages (from shapely<3.0.0dev->google-cloud-aiplatform) (1.26.4)\n",
            "Requirement already satisfied: google-crc32c<2.0dev,>=1.0 in /usr/local/lib/python3.10/dist-packages (from google-resumable-media<3.0dev,>=0.6.0->google-cloud-bigquery!=3.20.0,<4.0.0dev,>=1.15.0->google-cloud-aiplatform) (1.6.0)\n",
            "Requirement already satisfied: pyasn1<0.7.0,>=0.4.6 in /usr/local/lib/python3.10/dist-packages (from pyasn1-modules>=0.2.1->google-auth<3.0.0dev,>=2.14.1->google-cloud-aiplatform) (0.6.1)\n",
            "Requirement already satisfied: six>=1.5 in /usr/local/lib/python3.10/dist-packages (from python-dateutil<3.0dev,>=2.7.2->google-cloud-bigquery!=3.20.0,<4.0.0dev,>=1.15.0->google-cloud-aiplatform) (1.16.0)\n",
            "Requirement already satisfied: charset-normalizer<4,>=2 in /usr/local/lib/python3.10/dist-packages (from requests<3.0.0.dev0,>=2.18.0->google-api-core!=2.0.*,!=2.1.*,!=2.2.*,!=2.3.*,!=2.4.*,!=2.5.*,!=2.6.*,!=2.7.*,<3.0.0dev,>=1.34.1->google-api-core[grpc]!=2.0.*,!=2.1.*,!=2.2.*,!=2.3.*,!=2.4.*,!=2.5.*,!=2.6.*,!=2.7.*,<3.0.0dev,>=1.34.1->google-cloud-aiplatform) (3.4.0)\n",
            "Requirement already satisfied: idna<4,>=2.5 in /usr/local/lib/python3.10/dist-packages (from requests<3.0.0.dev0,>=2.18.0->google-api-core!=2.0.*,!=2.1.*,!=2.2.*,!=2.3.*,!=2.4.*,!=2.5.*,!=2.6.*,!=2.7.*,<3.0.0dev,>=1.34.1->google-api-core[grpc]!=2.0.*,!=2.1.*,!=2.2.*,!=2.3.*,!=2.4.*,!=2.5.*,!=2.6.*,!=2.7.*,<3.0.0dev,>=1.34.1->google-cloud-aiplatform) (3.10)\n",
            "Requirement already satisfied: urllib3<3,>=1.21.1 in /usr/local/lib/python3.10/dist-packages (from requests<3.0.0.dev0,>=2.18.0->google-api-core!=2.0.*,!=2.1.*,!=2.2.*,!=2.3.*,!=2.4.*,!=2.5.*,!=2.6.*,!=2.7.*,<3.0.0dev,>=1.34.1->google-api-core[grpc]!=2.0.*,!=2.1.*,!=2.2.*,!=2.3.*,!=2.4.*,!=2.5.*,!=2.6.*,!=2.7.*,<3.0.0dev,>=1.34.1->google-cloud-aiplatform) (2.2.3)\n",
            "Requirement already satisfied: certifi>=2017.4.17 in /usr/local/lib/python3.10/dist-packages (from requests<3.0.0.dev0,>=2.18.0->google-api-core!=2.0.*,!=2.1.*,!=2.2.*,!=2.3.*,!=2.4.*,!=2.5.*,!=2.6.*,!=2.7.*,<3.0.0dev,>=1.34.1->google-api-core[grpc]!=2.0.*,!=2.1.*,!=2.2.*,!=2.3.*,!=2.4.*,!=2.5.*,!=2.6.*,!=2.7.*,<3.0.0dev,>=1.34.1->google-cloud-aiplatform) (2024.8.30)\n",
            "Downloading google_cloud_aiplatform-1.74.0-py2.py3-none-any.whl (6.5 MB)\n",
            "\u001b[2K   \u001b[90m━━━━━━━━━━━━━━━━━━━━━━━━━━━━━━━━━━━━━━━━\u001b[0m \u001b[32m6.5/6.5 MB\u001b[0m \u001b[31m58.4 MB/s\u001b[0m eta \u001b[36m0:00:00\u001b[0m\n",
            "\u001b[?25hInstalling collected packages: google-cloud-aiplatform\n",
            "\u001b[33m  WARNING: The script tb-gcp-uploader is installed in '/root/.local/bin' which is not on PATH.\n",
            "  Consider adding this directory to PATH or, if you prefer to suppress this warning, use --no-warn-script-location.\u001b[0m\u001b[33m\n",
            "\u001b[0mSuccessfully installed google-cloud-aiplatform-1.74.0\n"
          ]
        },
        {
          "output_type": "display_data",
          "data": {
            "application/vnd.colab-display-data+json": {
              "pip_warning": {
                "packages": [
                  "google"
                ]
              },
              "id": "7fc89fe0b6ba4f75aae26f3dd9e21b1a"
            }
          },
          "metadata": {}
        },
        {
          "output_type": "stream",
          "name": "stdout",
          "text": [
            "Requirement already satisfied: google-cloud-aiplatform in /root/.local/lib/python3.10/site-packages (1.74.0)\n",
            "Collecting pymupdf\n",
            "  Downloading pymupdf-1.25.1-cp39-abi3-manylinux2014_x86_64.manylinux_2_17_x86_64.whl.metadata (3.4 kB)\n",
            "Requirement already satisfied: google-api-core!=2.0.*,!=2.1.*,!=2.2.*,!=2.3.*,!=2.4.*,!=2.5.*,!=2.6.*,!=2.7.*,<3.0.0dev,>=1.34.1 in /usr/local/lib/python3.10/dist-packages (from google-api-core[grpc]!=2.0.*,!=2.1.*,!=2.2.*,!=2.3.*,!=2.4.*,!=2.5.*,!=2.6.*,!=2.7.*,<3.0.0dev,>=1.34.1->google-cloud-aiplatform) (2.19.2)\n",
            "Requirement already satisfied: google-auth<3.0.0dev,>=2.14.1 in /usr/local/lib/python3.10/dist-packages (from google-cloud-aiplatform) (2.27.0)\n",
            "Requirement already satisfied: proto-plus<2.0.0dev,>=1.22.3 in /usr/local/lib/python3.10/dist-packages (from google-cloud-aiplatform) (1.25.0)\n",
            "Requirement already satisfied: protobuf!=4.21.0,!=4.21.1,!=4.21.2,!=4.21.3,!=4.21.4,!=4.21.5,<6.0.0dev,>=3.20.2 in /usr/local/lib/python3.10/dist-packages (from google-cloud-aiplatform) (4.25.5)\n",
            "Requirement already satisfied: packaging>=14.3 in /usr/local/lib/python3.10/dist-packages (from google-cloud-aiplatform) (24.2)\n",
            "Requirement already satisfied: google-cloud-storage<3.0.0dev,>=1.32.0 in /usr/local/lib/python3.10/dist-packages (from google-cloud-aiplatform) (2.8.0)\n",
            "Requirement already satisfied: google-cloud-bigquery!=3.20.0,<4.0.0dev,>=1.15.0 in /usr/local/lib/python3.10/dist-packages (from google-cloud-aiplatform) (3.25.0)\n",
            "Requirement already satisfied: google-cloud-resource-manager<3.0.0dev,>=1.3.3 in /usr/local/lib/python3.10/dist-packages (from google-cloud-aiplatform) (1.13.1)\n",
            "Requirement already satisfied: shapely<3.0.0dev in /usr/local/lib/python3.10/dist-packages (from google-cloud-aiplatform) (2.0.6)\n",
            "Requirement already satisfied: pydantic<3 in /usr/local/lib/python3.10/dist-packages (from google-cloud-aiplatform) (2.10.2)\n",
            "Requirement already satisfied: docstring-parser<1 in /usr/local/lib/python3.10/dist-packages (from google-cloud-aiplatform) (0.16)\n",
            "Requirement already satisfied: googleapis-common-protos<2.0.dev0,>=1.56.2 in /usr/local/lib/python3.10/dist-packages (from google-api-core!=2.0.*,!=2.1.*,!=2.2.*,!=2.3.*,!=2.4.*,!=2.5.*,!=2.6.*,!=2.7.*,<3.0.0dev,>=1.34.1->google-api-core[grpc]!=2.0.*,!=2.1.*,!=2.2.*,!=2.3.*,!=2.4.*,!=2.5.*,!=2.6.*,!=2.7.*,<3.0.0dev,>=1.34.1->google-cloud-aiplatform) (1.66.0)\n",
            "Requirement already satisfied: requests<3.0.0.dev0,>=2.18.0 in /usr/local/lib/python3.10/dist-packages (from google-api-core!=2.0.*,!=2.1.*,!=2.2.*,!=2.3.*,!=2.4.*,!=2.5.*,!=2.6.*,!=2.7.*,<3.0.0dev,>=1.34.1->google-api-core[grpc]!=2.0.*,!=2.1.*,!=2.2.*,!=2.3.*,!=2.4.*,!=2.5.*,!=2.6.*,!=2.7.*,<3.0.0dev,>=1.34.1->google-cloud-aiplatform) (2.32.3)\n",
            "Requirement already satisfied: grpcio<2.0dev,>=1.33.2 in /usr/local/lib/python3.10/dist-packages (from google-api-core[grpc]!=2.0.*,!=2.1.*,!=2.2.*,!=2.3.*,!=2.4.*,!=2.5.*,!=2.6.*,!=2.7.*,<3.0.0dev,>=1.34.1->google-cloud-aiplatform) (1.68.1)\n",
            "Requirement already satisfied: grpcio-status<2.0.dev0,>=1.33.2 in /usr/local/lib/python3.10/dist-packages (from google-api-core[grpc]!=2.0.*,!=2.1.*,!=2.2.*,!=2.3.*,!=2.4.*,!=2.5.*,!=2.6.*,!=2.7.*,<3.0.0dev,>=1.34.1->google-cloud-aiplatform) (1.62.3)\n",
            "Requirement already satisfied: cachetools<6.0,>=2.0.0 in /usr/local/lib/python3.10/dist-packages (from google-auth<3.0.0dev,>=2.14.1->google-cloud-aiplatform) (5.5.0)\n",
            "Requirement already satisfied: pyasn1-modules>=0.2.1 in /usr/local/lib/python3.10/dist-packages (from google-auth<3.0.0dev,>=2.14.1->google-cloud-aiplatform) (0.4.1)\n",
            "Requirement already satisfied: rsa<5,>=3.1.4 in /usr/local/lib/python3.10/dist-packages (from google-auth<3.0.0dev,>=2.14.1->google-cloud-aiplatform) (4.9)\n",
            "Requirement already satisfied: google-cloud-core<3.0.0dev,>=1.6.0 in /usr/local/lib/python3.10/dist-packages (from google-cloud-bigquery!=3.20.0,<4.0.0dev,>=1.15.0->google-cloud-aiplatform) (2.4.1)\n",
            "Requirement already satisfied: google-resumable-media<3.0dev,>=0.6.0 in /usr/local/lib/python3.10/dist-packages (from google-cloud-bigquery!=3.20.0,<4.0.0dev,>=1.15.0->google-cloud-aiplatform) (2.7.2)\n",
            "Requirement already satisfied: python-dateutil<3.0dev,>=2.7.2 in /usr/local/lib/python3.10/dist-packages (from google-cloud-bigquery!=3.20.0,<4.0.0dev,>=1.15.0->google-cloud-aiplatform) (2.8.2)\n",
            "Requirement already satisfied: grpc-google-iam-v1<1.0.0dev,>=0.12.4 in /usr/local/lib/python3.10/dist-packages (from google-cloud-resource-manager<3.0.0dev,>=1.3.3->google-cloud-aiplatform) (0.13.1)\n",
            "Requirement already satisfied: annotated-types>=0.6.0 in /usr/local/lib/python3.10/dist-packages (from pydantic<3->google-cloud-aiplatform) (0.7.0)\n",
            "Requirement already satisfied: pydantic-core==2.27.1 in /usr/local/lib/python3.10/dist-packages (from pydantic<3->google-cloud-aiplatform) (2.27.1)\n",
            "Requirement already satisfied: typing-extensions>=4.12.2 in /usr/local/lib/python3.10/dist-packages (from pydantic<3->google-cloud-aiplatform) (4.12.2)\n",
            "Requirement already satisfied: numpy<3,>=1.14 in /usr/local/lib/python3.10/dist-packages (from shapely<3.0.0dev->google-cloud-aiplatform) (1.26.4)\n",
            "Requirement already satisfied: google-crc32c<2.0dev,>=1.0 in /usr/local/lib/python3.10/dist-packages (from google-resumable-media<3.0dev,>=0.6.0->google-cloud-bigquery!=3.20.0,<4.0.0dev,>=1.15.0->google-cloud-aiplatform) (1.6.0)\n",
            "Requirement already satisfied: pyasn1<0.7.0,>=0.4.6 in /usr/local/lib/python3.10/dist-packages (from pyasn1-modules>=0.2.1->google-auth<3.0.0dev,>=2.14.1->google-cloud-aiplatform) (0.6.1)\n",
            "Requirement already satisfied: six>=1.5 in /usr/local/lib/python3.10/dist-packages (from python-dateutil<3.0dev,>=2.7.2->google-cloud-bigquery!=3.20.0,<4.0.0dev,>=1.15.0->google-cloud-aiplatform) (1.16.0)\n",
            "Requirement already satisfied: charset-normalizer<4,>=2 in /usr/local/lib/python3.10/dist-packages (from requests<3.0.0.dev0,>=2.18.0->google-api-core!=2.0.*,!=2.1.*,!=2.2.*,!=2.3.*,!=2.4.*,!=2.5.*,!=2.6.*,!=2.7.*,<3.0.0dev,>=1.34.1->google-api-core[grpc]!=2.0.*,!=2.1.*,!=2.2.*,!=2.3.*,!=2.4.*,!=2.5.*,!=2.6.*,!=2.7.*,<3.0.0dev,>=1.34.1->google-cloud-aiplatform) (3.4.0)\n",
            "Requirement already satisfied: idna<4,>=2.5 in /usr/local/lib/python3.10/dist-packages (from requests<3.0.0.dev0,>=2.18.0->google-api-core!=2.0.*,!=2.1.*,!=2.2.*,!=2.3.*,!=2.4.*,!=2.5.*,!=2.6.*,!=2.7.*,<3.0.0dev,>=1.34.1->google-api-core[grpc]!=2.0.*,!=2.1.*,!=2.2.*,!=2.3.*,!=2.4.*,!=2.5.*,!=2.6.*,!=2.7.*,<3.0.0dev,>=1.34.1->google-cloud-aiplatform) (3.10)\n",
            "Requirement already satisfied: urllib3<3,>=1.21.1 in /usr/local/lib/python3.10/dist-packages (from requests<3.0.0.dev0,>=2.18.0->google-api-core!=2.0.*,!=2.1.*,!=2.2.*,!=2.3.*,!=2.4.*,!=2.5.*,!=2.6.*,!=2.7.*,<3.0.0dev,>=1.34.1->google-api-core[grpc]!=2.0.*,!=2.1.*,!=2.2.*,!=2.3.*,!=2.4.*,!=2.5.*,!=2.6.*,!=2.7.*,<3.0.0dev,>=1.34.1->google-cloud-aiplatform) (2.2.3)\n",
            "Requirement already satisfied: certifi>=2017.4.17 in /usr/local/lib/python3.10/dist-packages (from requests<3.0.0.dev0,>=2.18.0->google-api-core!=2.0.*,!=2.1.*,!=2.2.*,!=2.3.*,!=2.4.*,!=2.5.*,!=2.6.*,!=2.7.*,<3.0.0dev,>=1.34.1->google-api-core[grpc]!=2.0.*,!=2.1.*,!=2.2.*,!=2.3.*,!=2.4.*,!=2.5.*,!=2.6.*,!=2.7.*,<3.0.0dev,>=1.34.1->google-cloud-aiplatform) (2024.8.30)\n",
            "Downloading pymupdf-1.25.1-cp39-abi3-manylinux2014_x86_64.manylinux_2_17_x86_64.whl (20.0 MB)\n",
            "\u001b[2K   \u001b[90m━━━━━━━━━━━━━━━━━━━━━━━━━━━━━━━━━━━━━━━━\u001b[0m \u001b[32m20.0/20.0 MB\u001b[0m \u001b[31m80.7 MB/s\u001b[0m eta \u001b[36m0:00:00\u001b[0m\n",
            "\u001b[?25hInstalling collected packages: pymupdf\n",
            "\u001b[33m  WARNING: The script pymupdf is installed in '/root/.local/bin' which is not on PATH.\n",
            "  Consider adding this directory to PATH or, if you prefer to suppress this warning, use --no-warn-script-location.\u001b[0m\u001b[33m\n",
            "\u001b[0mSuccessfully installed pymupdf-1.25.1\n"
          ]
        }
      ]
    },
    {
      "cell_type": "code",
      "source": [
        "# \"RUN THIS CELL AS IS\"\n",
        "\n",
        "import IPython\n",
        "\n",
        "# Restart the kernet after libraries are loaded.\n",
        "\n",
        "app = IPython.Application.instance()\n",
        "app.kernel.do_shutdown(True)"
      ],
      "metadata": {
        "colab": {
          "base_uri": "https://localhost:8080/"
        },
        "id": "GKj_VMIGUf9T",
        "outputId": "afdbd70f-33d4-494a-d92b-e49d05ef7c58"
      },
      "id": "GKj_VMIGUf9T",
      "execution_count": null,
      "outputs": [
        {
          "output_type": "execute_result",
          "data": {
            "text/plain": [
              "{'status': 'ok', 'restart': True}"
            ]
          },
          "metadata": {},
          "execution_count": 2
        }
      ]
    },
    {
      "cell_type": "code",
      "source": [
        "import sys\n",
        "\n",
        "# Define project information and update the location if it differs from the one specified in the lab instructions.\n",
        "PROJECT_ID = \"bnb-code-vipasana\"  # @param {type:\"string\"}\n",
        "LOCATION = \"us-central1\"  # @param {type:\"string\"}\n",
        "\n",
        "# Try to get the PROJECT_ID automatically.\n",
        "if \"google.colab\" not in sys.modules:\n",
        "    import subprocess\n",
        "\n",
        "    PROJECT_ID = subprocess.check_output(\n",
        "        [\"gcloud\", \"config\", \"get-value\", \"project\"], text=True\n",
        "    ).strip()\n",
        "\n",
        "print(f\"Your project ID is: {PROJECT_ID}\")"
      ],
      "metadata": {
        "id": "d0-DEee5UDFg",
        "colab": {
          "base_uri": "https://localhost:8080/"
        },
        "outputId": "3b61d062-8828-43ed-9ded-eb69de740e9f"
      },
      "id": "d0-DEee5UDFg",
      "execution_count": null,
      "outputs": [
        {
          "output_type": "stream",
          "name": "stdout",
          "text": [
            "Your project ID is: bnb-code-vipasana\n"
          ]
        }
      ]
    },
    {
      "cell_type": "code",
      "source": [
        "import vertexai\n",
        "\n",
        "vertexai.init(project=PROJECT_ID, location=LOCATION)"
      ],
      "metadata": {
        "id": "SqEax3s4TMk4"
      },
      "id": "SqEax3s4TMk4",
      "execution_count": null,
      "outputs": []
    },
    {
      "cell_type": "code",
      "source": [],
      "metadata": {
        "id": "nDE55QnB5Rwj"
      },
      "id": "nDE55QnB5Rwj",
      "execution_count": null,
      "outputs": []
    },
    {
      "cell_type": "code",
      "source": [
        "import google.generativeai as genai\n",
        "\n",
        "from IPython.display import Markdown, display\n",
        "from vertexai.generative_models import (\n",
        "    Content,\n",
        "    GenerationConfig,\n",
        "    GenerationResponse,\n",
        "    GenerativeModel,\n",
        "    HarmCategory,\n",
        "    HarmBlockThreshold,\n",
        "    Image,\n",
        "    Part,\n",
        ")\n",
        "text_model = GenerativeModel(\"gemini-1.5-pro\")\n",
        "multimodal_model = GenerativeModel(\"gemini-2.0-flash-exp\")"
      ],
      "metadata": {
        "id": "au6ru-RyYTOz"
      },
      "id": "au6ru-RyYTOz",
      "execution_count": null,
      "outputs": []
    },
    {
      "cell_type": "code",
      "source": [],
      "metadata": {
        "id": "KAPKoSnZYZEI"
      },
      "id": "KAPKoSnZYZEI",
      "execution_count": null,
      "outputs": []
    },
    {
      "cell_type": "code",
      "source": [
        "import os\n",
        "import urllib.request\n",
        "import sys\n",
        "\n",
        "if not os.path.exists(\"utils\"):\n",
        "    os.makedirs(\"utils\")\n",
        "\n",
        "url_prefix = \"https://github.com/GoogleCloudPlatform/generative-ai/tree/main/gemini/use-cases/retrieval-augmented-generation/utils\"\n",
        "files = [\"intro_multimodal_rag_utils.py\"]\n",
        "\n",
        "for fname in files:\n",
        "    urllib.request.urlretrieve(f\"{url_prefix}/{fname}\", filename=f\"utils/{fname}\")\n"
      ],
      "metadata": {
        "id": "MqUmxw7HZ03b"
      },
      "id": "MqUmxw7HZ03b",
      "execution_count": null,
      "outputs": []
    },
    {
      "cell_type": "code",
      "source": [
        "pip install colorama"
      ],
      "metadata": {
        "colab": {
          "base_uri": "https://localhost:8080/"
        },
        "id": "mGsgHb8x4fi9",
        "outputId": "4175329e-bb04-4066-8648-b645e000eb54"
      },
      "id": "mGsgHb8x4fi9",
      "execution_count": null,
      "outputs": [
        {
          "output_type": "stream",
          "name": "stdout",
          "text": [
            "Collecting colorama\n",
            "  Downloading colorama-0.4.6-py2.py3-none-any.whl.metadata (17 kB)\n",
            "Downloading colorama-0.4.6-py2.py3-none-any.whl (25 kB)\n",
            "Installing collected packages: colorama\n",
            "Successfully installed colorama-0.4.6\n"
          ]
        }
      ]
    },
    {
      "cell_type": "code",
      "source": [
        "\n",
        "# Import helper functions from utils.\n",
        "\n",
        "from utils.intro_multimodal_rag_utils import get_document_metadata\n"
      ],
      "metadata": {
        "id": "ysjkfUxKbdFQ"
      },
      "id": "ysjkfUxKbdFQ",
      "execution_count": null,
      "outputs": []
    },
    {
      "cell_type": "code",
      "source": [
        "pdf_folder_path = \"/content/History\""
      ],
      "metadata": {
        "id": "en1TswgV6_Mu"
      },
      "id": "en1TswgV6_Mu",
      "execution_count": null,
      "outputs": []
    },
    {
      "cell_type": "code",
      "source": [
        "image_description_prompt = \"\"\"Explain what is going on in the image.\n",
        "If it's a table, extract all elements of the table.\n",
        "If it's a map , extract all elements of the map.\n",
        "If it's a graph, explain the findings in the graph.\n",
        "Do not consider any white spaces as the image.\n",
        "ignore the image if the image is not related to the document.\n",
        "ignore the image if the image is only containing numbers.\n",
        "\"\"\""
      ],
      "metadata": {
        "id": "_1jb7PJmaldd"
      },
      "id": "_1jb7PJmaldd",
      "execution_count": null,
      "outputs": []
    },
    {
      "cell_type": "code",
      "source": [
        "text_metadata_df, image_metadata_df = get_document_metadata(\n",
        "    multimodal_model, # we are passing gemini 1.0 pro vision model\n",
        "    pdf_folder_path,\n",
        "    image_save_dir=\"images\",\n",
        "    image_description_prompt=image_description_prompt,\n",
        "    embedding_size=1408,\n",
        "    add_sleep_after_page = True,\n",
        "    sleep_time_after_page = 60\n",
        ")\n",
        "\n",
        "print(\"\\n\\n --- Completed processing. ---\")"
      ],
      "metadata": {
        "colab": {
          "base_uri": "https://localhost:8080/"
        },
        "id": "rG6AMBE2a67H",
        "outputId": "e193743f-98c4-4dd1-a7ce-5dea3aaf8c90",
        "collapsed": true
      },
      "id": "rG6AMBE2a67H",
      "execution_count": null,
      "outputs": [
        {
          "output_type": "stream",
          "name": "stdout",
          "text": [
            "\n",
            "\n",
            " Processing the file: --------------------------------- /content/History/WHistory.pdf \n",
            "\n",
            "\n",
            "Processing page: 1\n",
            "Sleeping for  60  sec before processing the next page to avoid quota issues. You can disable it: \"add_sleep_after_page = False\"  \n",
            "Processing page: 2\n",
            "Sleeping for  60  sec before processing the next page to avoid quota issues. You can disable it: \"add_sleep_after_page = False\"  \n",
            "Processing page: 3\n",
            "Sleeping for  60  sec before processing the next page to avoid quota issues. You can disable it: \"add_sleep_after_page = False\"  \n",
            "Processing page: 4\n",
            "Extracting image from page: 4, saved as: images/WHistory.pdf_image_3_0_85.jpeg\n",
            "Sleeping for  60  sec before processing the next page to avoid quota issues. You can disable it: \"add_sleep_after_page = False\"  \n",
            "Processing page: 5\n",
            "Sleeping for  60  sec before processing the next page to avoid quota issues. You can disable it: \"add_sleep_after_page = False\"  \n",
            "Processing page: 6\n",
            "Extracting image from page: 6, saved as: images/WHistory.pdf_image_5_0_110.jpeg\n",
            "Sleeping for  60  sec before processing the next page to avoid quota issues. You can disable it: \"add_sleep_after_page = False\"  \n",
            "Processing page: 7\n",
            "Sleeping for  60  sec before processing the next page to avoid quota issues. You can disable it: \"add_sleep_after_page = False\"  \n",
            "Processing page: 8\n",
            "Extracting image from page: 8, saved as: images/WHistory.pdf_image_7_0_130.jpeg\n",
            "Sleeping for  60  sec before processing the next page to avoid quota issues. You can disable it: \"add_sleep_after_page = False\"  \n",
            "Processing page: 9\n",
            "Extracting image from page: 9, saved as: images/WHistory.pdf_image_8_0_144.jpeg\n",
            "Sleeping for  60  sec before processing the next page to avoid quota issues. You can disable it: \"add_sleep_after_page = False\"  \n",
            "Processing page: 10\n",
            "Extracting image from page: 10, saved as: images/WHistory.pdf_image_9_0_158.jpeg\n",
            "Sleeping for  60  sec before processing the next page to avoid quota issues. You can disable it: \"add_sleep_after_page = False\"  \n",
            "Processing page: 11\n",
            "Extracting image from page: 11, saved as: images/WHistory.pdf_image_10_0_172.jpeg\n",
            "Sleeping for  60  sec before processing the next page to avoid quota issues. You can disable it: \"add_sleep_after_page = False\"  \n",
            "\n",
            "\n",
            " --- Completed processing. ---\n"
          ]
        }
      ]
    },
    {
      "cell_type": "code",
      "source": [
        "image_metadata_df.head()"
      ],
      "metadata": {
        "id": "m-SArElFE5QF",
        "colab": {
          "base_uri": "https://localhost:8080/",
          "height": 379
        },
        "outputId": "63657b2d-5347-4586-e5b2-b5685e2ee54c"
      },
      "id": "m-SArElFE5QF",
      "execution_count": null,
      "outputs": [
        {
          "output_type": "execute_result",
          "data": {
            "text/plain": [
              "      file_name  page_num  img_num                                img_path  \\\n",
              "0  WHistory.pdf         4        1   images/WHistory.pdf_image_3_0_85.jpeg   \n",
              "1  WHistory.pdf         6        1  images/WHistory.pdf_image_5_0_110.jpeg   \n",
              "2  WHistory.pdf         8        1  images/WHistory.pdf_image_7_0_130.jpeg   \n",
              "3  WHistory.pdf         9        1  images/WHistory.pdf_image_8_0_144.jpeg   \n",
              "4  WHistory.pdf        10        1  images/WHistory.pdf_image_9_0_158.jpeg   \n",
              "\n",
              "                                            img_desc  \\\n",
              "0  The image is a map of Africa, highlighting sev...   \n",
              "1  The image is a map showing the migration patte...   \n",
              "2  The image is a map showing the geographical fe...   \n",
              "3  The image is a map showing the migration patte...   \n",
              "4  The image shows three roughly shaped stones, l...   \n",
              "\n",
              "                          mm_embedding_from_img_only  \\\n",
              "0  [-0.0324874334, 0.0519083068, -0.0421791598, 0...   \n",
              "1  [-0.00376424636, 0.00844496209, -0.0416344814,...   \n",
              "2  [0.0188675076, 0.0444908552, -0.0288576651, 0....   \n",
              "3  [-0.0369006097, 0.0407145247, -0.00974484906, ...   \n",
              "4  [0.0108074974, 0.00288226223, -0.00231730728, ...   \n",
              "\n",
              "               text_embedding_from_image_description  \n",
              "0  [0.021370884031057358, -0.05093679204583168, -...  \n",
              "1  [-0.0034929877147078514, -0.037708405405282974...  \n",
              "2  [0.00296841561794281, -0.026425205171108246, -...  \n",
              "3  [-0.01446655485779047, -0.017099827527999878, ...  \n",
              "4  [0.005088358651846647, -0.05017278715968132, -...  "
            ],
            "text/html": [
              "\n",
              "  <div id=\"df-977d6ea7-3e0f-4afe-8fb9-e874d43213b8\" class=\"colab-df-container\">\n",
              "    <div>\n",
              "<style scoped>\n",
              "    .dataframe tbody tr th:only-of-type {\n",
              "        vertical-align: middle;\n",
              "    }\n",
              "\n",
              "    .dataframe tbody tr th {\n",
              "        vertical-align: top;\n",
              "    }\n",
              "\n",
              "    .dataframe thead th {\n",
              "        text-align: right;\n",
              "    }\n",
              "</style>\n",
              "<table border=\"1\" class=\"dataframe\">\n",
              "  <thead>\n",
              "    <tr style=\"text-align: right;\">\n",
              "      <th></th>\n",
              "      <th>file_name</th>\n",
              "      <th>page_num</th>\n",
              "      <th>img_num</th>\n",
              "      <th>img_path</th>\n",
              "      <th>img_desc</th>\n",
              "      <th>mm_embedding_from_img_only</th>\n",
              "      <th>text_embedding_from_image_description</th>\n",
              "    </tr>\n",
              "  </thead>\n",
              "  <tbody>\n",
              "    <tr>\n",
              "      <th>0</th>\n",
              "      <td>WHistory.pdf</td>\n",
              "      <td>4</td>\n",
              "      <td>1</td>\n",
              "      <td>images/WHistory.pdf_image_3_0_85.jpeg</td>\n",
              "      <td>The image is a map of Africa, highlighting sev...</td>\n",
              "      <td>[-0.0324874334, 0.0519083068, -0.0421791598, 0...</td>\n",
              "      <td>[0.021370884031057358, -0.05093679204583168, -...</td>\n",
              "    </tr>\n",
              "    <tr>\n",
              "      <th>1</th>\n",
              "      <td>WHistory.pdf</td>\n",
              "      <td>6</td>\n",
              "      <td>1</td>\n",
              "      <td>images/WHistory.pdf_image_5_0_110.jpeg</td>\n",
              "      <td>The image is a map showing the migration patte...</td>\n",
              "      <td>[-0.00376424636, 0.00844496209, -0.0416344814,...</td>\n",
              "      <td>[-0.0034929877147078514, -0.037708405405282974...</td>\n",
              "    </tr>\n",
              "    <tr>\n",
              "      <th>2</th>\n",
              "      <td>WHistory.pdf</td>\n",
              "      <td>8</td>\n",
              "      <td>1</td>\n",
              "      <td>images/WHistory.pdf_image_7_0_130.jpeg</td>\n",
              "      <td>The image is a map showing the geographical fe...</td>\n",
              "      <td>[0.0188675076, 0.0444908552, -0.0288576651, 0....</td>\n",
              "      <td>[0.00296841561794281, -0.026425205171108246, -...</td>\n",
              "    </tr>\n",
              "    <tr>\n",
              "      <th>3</th>\n",
              "      <td>WHistory.pdf</td>\n",
              "      <td>9</td>\n",
              "      <td>1</td>\n",
              "      <td>images/WHistory.pdf_image_8_0_144.jpeg</td>\n",
              "      <td>The image is a map showing the migration patte...</td>\n",
              "      <td>[-0.0369006097, 0.0407145247, -0.00974484906, ...</td>\n",
              "      <td>[-0.01446655485779047, -0.017099827527999878, ...</td>\n",
              "    </tr>\n",
              "    <tr>\n",
              "      <th>4</th>\n",
              "      <td>WHistory.pdf</td>\n",
              "      <td>10</td>\n",
              "      <td>1</td>\n",
              "      <td>images/WHistory.pdf_image_9_0_158.jpeg</td>\n",
              "      <td>The image shows three roughly shaped stones, l...</td>\n",
              "      <td>[0.0108074974, 0.00288226223, -0.00231730728, ...</td>\n",
              "      <td>[0.005088358651846647, -0.05017278715968132, -...</td>\n",
              "    </tr>\n",
              "  </tbody>\n",
              "</table>\n",
              "</div>\n",
              "    <div class=\"colab-df-buttons\">\n",
              "\n",
              "  <div class=\"colab-df-container\">\n",
              "    <button class=\"colab-df-convert\" onclick=\"convertToInteractive('df-977d6ea7-3e0f-4afe-8fb9-e874d43213b8')\"\n",
              "            title=\"Convert this dataframe to an interactive table.\"\n",
              "            style=\"display:none;\">\n",
              "\n",
              "  <svg xmlns=\"http://www.w3.org/2000/svg\" height=\"24px\" viewBox=\"0 -960 960 960\">\n",
              "    <path d=\"M120-120v-720h720v720H120Zm60-500h600v-160H180v160Zm220 220h160v-160H400v160Zm0 220h160v-160H400v160ZM180-400h160v-160H180v160Zm440 0h160v-160H620v160ZM180-180h160v-160H180v160Zm440 0h160v-160H620v160Z\"/>\n",
              "  </svg>\n",
              "    </button>\n",
              "\n",
              "  <style>\n",
              "    .colab-df-container {\n",
              "      display:flex;\n",
              "      gap: 12px;\n",
              "    }\n",
              "\n",
              "    .colab-df-convert {\n",
              "      background-color: #E8F0FE;\n",
              "      border: none;\n",
              "      border-radius: 50%;\n",
              "      cursor: pointer;\n",
              "      display: none;\n",
              "      fill: #1967D2;\n",
              "      height: 32px;\n",
              "      padding: 0 0 0 0;\n",
              "      width: 32px;\n",
              "    }\n",
              "\n",
              "    .colab-df-convert:hover {\n",
              "      background-color: #E2EBFA;\n",
              "      box-shadow: 0px 1px 2px rgba(60, 64, 67, 0.3), 0px 1px 3px 1px rgba(60, 64, 67, 0.15);\n",
              "      fill: #174EA6;\n",
              "    }\n",
              "\n",
              "    .colab-df-buttons div {\n",
              "      margin-bottom: 4px;\n",
              "    }\n",
              "\n",
              "    [theme=dark] .colab-df-convert {\n",
              "      background-color: #3B4455;\n",
              "      fill: #D2E3FC;\n",
              "    }\n",
              "\n",
              "    [theme=dark] .colab-df-convert:hover {\n",
              "      background-color: #434B5C;\n",
              "      box-shadow: 0px 1px 3px 1px rgba(0, 0, 0, 0.15);\n",
              "      filter: drop-shadow(0px 1px 2px rgba(0, 0, 0, 0.3));\n",
              "      fill: #FFFFFF;\n",
              "    }\n",
              "  </style>\n",
              "\n",
              "    <script>\n",
              "      const buttonEl =\n",
              "        document.querySelector('#df-977d6ea7-3e0f-4afe-8fb9-e874d43213b8 button.colab-df-convert');\n",
              "      buttonEl.style.display =\n",
              "        google.colab.kernel.accessAllowed ? 'block' : 'none';\n",
              "\n",
              "      async function convertToInteractive(key) {\n",
              "        const element = document.querySelector('#df-977d6ea7-3e0f-4afe-8fb9-e874d43213b8');\n",
              "        const dataTable =\n",
              "          await google.colab.kernel.invokeFunction('convertToInteractive',\n",
              "                                                    [key], {});\n",
              "        if (!dataTable) return;\n",
              "\n",
              "        const docLinkHtml = 'Like what you see? Visit the ' +\n",
              "          '<a target=\"_blank\" href=https://colab.research.google.com/notebooks/data_table.ipynb>data table notebook</a>'\n",
              "          + ' to learn more about interactive tables.';\n",
              "        element.innerHTML = '';\n",
              "        dataTable['output_type'] = 'display_data';\n",
              "        await google.colab.output.renderOutput(dataTable, element);\n",
              "        const docLink = document.createElement('div');\n",
              "        docLink.innerHTML = docLinkHtml;\n",
              "        element.appendChild(docLink);\n",
              "      }\n",
              "    </script>\n",
              "  </div>\n",
              "\n",
              "\n",
              "<div id=\"df-dbbb8e5d-7a4c-46e6-b7b1-330a0895e803\">\n",
              "  <button class=\"colab-df-quickchart\" onclick=\"quickchart('df-dbbb8e5d-7a4c-46e6-b7b1-330a0895e803')\"\n",
              "            title=\"Suggest charts\"\n",
              "            style=\"display:none;\">\n",
              "\n",
              "<svg xmlns=\"http://www.w3.org/2000/svg\" height=\"24px\"viewBox=\"0 0 24 24\"\n",
              "     width=\"24px\">\n",
              "    <g>\n",
              "        <path d=\"M19 3H5c-1.1 0-2 .9-2 2v14c0 1.1.9 2 2 2h14c1.1 0 2-.9 2-2V5c0-1.1-.9-2-2-2zM9 17H7v-7h2v7zm4 0h-2V7h2v10zm4 0h-2v-4h2v4z\"/>\n",
              "    </g>\n",
              "</svg>\n",
              "  </button>\n",
              "\n",
              "<style>\n",
              "  .colab-df-quickchart {\n",
              "      --bg-color: #E8F0FE;\n",
              "      --fill-color: #1967D2;\n",
              "      --hover-bg-color: #E2EBFA;\n",
              "      --hover-fill-color: #174EA6;\n",
              "      --disabled-fill-color: #AAA;\n",
              "      --disabled-bg-color: #DDD;\n",
              "  }\n",
              "\n",
              "  [theme=dark] .colab-df-quickchart {\n",
              "      --bg-color: #3B4455;\n",
              "      --fill-color: #D2E3FC;\n",
              "      --hover-bg-color: #434B5C;\n",
              "      --hover-fill-color: #FFFFFF;\n",
              "      --disabled-bg-color: #3B4455;\n",
              "      --disabled-fill-color: #666;\n",
              "  }\n",
              "\n",
              "  .colab-df-quickchart {\n",
              "    background-color: var(--bg-color);\n",
              "    border: none;\n",
              "    border-radius: 50%;\n",
              "    cursor: pointer;\n",
              "    display: none;\n",
              "    fill: var(--fill-color);\n",
              "    height: 32px;\n",
              "    padding: 0;\n",
              "    width: 32px;\n",
              "  }\n",
              "\n",
              "  .colab-df-quickchart:hover {\n",
              "    background-color: var(--hover-bg-color);\n",
              "    box-shadow: 0 1px 2px rgba(60, 64, 67, 0.3), 0 1px 3px 1px rgba(60, 64, 67, 0.15);\n",
              "    fill: var(--button-hover-fill-color);\n",
              "  }\n",
              "\n",
              "  .colab-df-quickchart-complete:disabled,\n",
              "  .colab-df-quickchart-complete:disabled:hover {\n",
              "    background-color: var(--disabled-bg-color);\n",
              "    fill: var(--disabled-fill-color);\n",
              "    box-shadow: none;\n",
              "  }\n",
              "\n",
              "  .colab-df-spinner {\n",
              "    border: 2px solid var(--fill-color);\n",
              "    border-color: transparent;\n",
              "    border-bottom-color: var(--fill-color);\n",
              "    animation:\n",
              "      spin 1s steps(1) infinite;\n",
              "  }\n",
              "\n",
              "  @keyframes spin {\n",
              "    0% {\n",
              "      border-color: transparent;\n",
              "      border-bottom-color: var(--fill-color);\n",
              "      border-left-color: var(--fill-color);\n",
              "    }\n",
              "    20% {\n",
              "      border-color: transparent;\n",
              "      border-left-color: var(--fill-color);\n",
              "      border-top-color: var(--fill-color);\n",
              "    }\n",
              "    30% {\n",
              "      border-color: transparent;\n",
              "      border-left-color: var(--fill-color);\n",
              "      border-top-color: var(--fill-color);\n",
              "      border-right-color: var(--fill-color);\n",
              "    }\n",
              "    40% {\n",
              "      border-color: transparent;\n",
              "      border-right-color: var(--fill-color);\n",
              "      border-top-color: var(--fill-color);\n",
              "    }\n",
              "    60% {\n",
              "      border-color: transparent;\n",
              "      border-right-color: var(--fill-color);\n",
              "    }\n",
              "    80% {\n",
              "      border-color: transparent;\n",
              "      border-right-color: var(--fill-color);\n",
              "      border-bottom-color: var(--fill-color);\n",
              "    }\n",
              "    90% {\n",
              "      border-color: transparent;\n",
              "      border-bottom-color: var(--fill-color);\n",
              "    }\n",
              "  }\n",
              "</style>\n",
              "\n",
              "  <script>\n",
              "    async function quickchart(key) {\n",
              "      const quickchartButtonEl =\n",
              "        document.querySelector('#' + key + ' button');\n",
              "      quickchartButtonEl.disabled = true;  // To prevent multiple clicks.\n",
              "      quickchartButtonEl.classList.add('colab-df-spinner');\n",
              "      try {\n",
              "        const charts = await google.colab.kernel.invokeFunction(\n",
              "            'suggestCharts', [key], {});\n",
              "      } catch (error) {\n",
              "        console.error('Error during call to suggestCharts:', error);\n",
              "      }\n",
              "      quickchartButtonEl.classList.remove('colab-df-spinner');\n",
              "      quickchartButtonEl.classList.add('colab-df-quickchart-complete');\n",
              "    }\n",
              "    (() => {\n",
              "      let quickchartButtonEl =\n",
              "        document.querySelector('#df-dbbb8e5d-7a4c-46e6-b7b1-330a0895e803 button');\n",
              "      quickchartButtonEl.style.display =\n",
              "        google.colab.kernel.accessAllowed ? 'block' : 'none';\n",
              "    })();\n",
              "  </script>\n",
              "</div>\n",
              "    </div>\n",
              "  </div>\n"
            ]
          },
          "metadata": {},
          "execution_count": 13
        }
      ]
    },
    {
      "cell_type": "code",
      "source": [
        "# Explore the text_metadata_df dataframe by displaying the first few rows of the dataframe.\n",
        "\n",
        "text_metadata_df.head()"
      ],
      "metadata": {
        "id": "wQtclAHd7b23",
        "colab": {
          "base_uri": "https://localhost:8080/",
          "height": 327
        },
        "outputId": "7954907d-2b4b-4bb2-b154-2b1ea1f18d51"
      },
      "id": "wQtclAHd7b23",
      "execution_count": null,
      "outputs": [
        {
          "output_type": "execute_result",
          "data": {
            "text/plain": [
              "      file_name  page_num                                               text  \\\n",
              "0  WHistory.pdf         1  Page | 1 \\n1\\nPrehistory\\nEugene Berger\\n1.1 C...   \n",
              "1  WHistory.pdf         1  Page | 1 \\n1\\nPrehistory\\nEugene Berger\\n1.1 C...   \n",
              "2  WHistory.pdf         2  Page | 2 \\nnot content with simply reaching re...   \n",
              "3  WHistory.pdf         2  Page | 2 \\nnot content with simply reaching re...   \n",
              "4  WHistory.pdf         2  Page | 2 \\nnot content with simply reaching re...   \n",
              "\n",
              "                                 text_embedding_page  chunk_number  \\\n",
              "0  [0.016686974093317986, -0.010751216672360897, ...             1   \n",
              "1  [0.016686974093317986, -0.010751216672360897, ...             2   \n",
              "2  [0.04789026081562042, -0.050393957644701004, -...             1   \n",
              "3  [0.04789026081562042, -0.050393957644701004, -...             2   \n",
              "4  [0.04789026081562042, -0.050393957644701004, -...             3   \n",
              "\n",
              "                                          chunk_text  \\\n",
              "0  Page | 1 \\n1\\nPrehistory\\nEugene Berger\\n1.1 C...   \n",
              "1  t to do \\nif the hernia suddenly bulged. It di...   \n",
              "2  Page | 2 \\nnot content with simply reaching re...   \n",
              "3  recognize that written language is a relativel...   \n",
              "4  o place thousands of organic archaeological ma...   \n",
              "\n",
              "                                text_embedding_chunk  \n",
              "0  [0.019729599356651306, 0.0037071469705551863, ...  \n",
              "1  [-0.02316751331090927, -0.01980624534189701, -...  \n",
              "2  [0.024214094504714012, -0.05323855206370354, -...  \n",
              "3  [0.0237335916608572, -0.055585552006959915, -0...  \n",
              "4  [0.02478783018887043, -0.04510115832090378, -0...  "
            ],
            "text/html": [
              "\n",
              "  <div id=\"df-34bde3e4-8f4a-46d6-8eb3-12f2870864b2\" class=\"colab-df-container\">\n",
              "    <div>\n",
              "<style scoped>\n",
              "    .dataframe tbody tr th:only-of-type {\n",
              "        vertical-align: middle;\n",
              "    }\n",
              "\n",
              "    .dataframe tbody tr th {\n",
              "        vertical-align: top;\n",
              "    }\n",
              "\n",
              "    .dataframe thead th {\n",
              "        text-align: right;\n",
              "    }\n",
              "</style>\n",
              "<table border=\"1\" class=\"dataframe\">\n",
              "  <thead>\n",
              "    <tr style=\"text-align: right;\">\n",
              "      <th></th>\n",
              "      <th>file_name</th>\n",
              "      <th>page_num</th>\n",
              "      <th>text</th>\n",
              "      <th>text_embedding_page</th>\n",
              "      <th>chunk_number</th>\n",
              "      <th>chunk_text</th>\n",
              "      <th>text_embedding_chunk</th>\n",
              "    </tr>\n",
              "  </thead>\n",
              "  <tbody>\n",
              "    <tr>\n",
              "      <th>0</th>\n",
              "      <td>WHistory.pdf</td>\n",
              "      <td>1</td>\n",
              "      <td>Page | 1 \\n1\\nPrehistory\\nEugene Berger\\n1.1 C...</td>\n",
              "      <td>[0.016686974093317986, -0.010751216672360897, ...</td>\n",
              "      <td>1</td>\n",
              "      <td>Page | 1 \\n1\\nPrehistory\\nEugene Berger\\n1.1 C...</td>\n",
              "      <td>[0.019729599356651306, 0.0037071469705551863, ...</td>\n",
              "    </tr>\n",
              "    <tr>\n",
              "      <th>1</th>\n",
              "      <td>WHistory.pdf</td>\n",
              "      <td>1</td>\n",
              "      <td>Page | 1 \\n1\\nPrehistory\\nEugene Berger\\n1.1 C...</td>\n",
              "      <td>[0.016686974093317986, -0.010751216672360897, ...</td>\n",
              "      <td>2</td>\n",
              "      <td>t to do \\nif the hernia suddenly bulged. It di...</td>\n",
              "      <td>[-0.02316751331090927, -0.01980624534189701, -...</td>\n",
              "    </tr>\n",
              "    <tr>\n",
              "      <th>2</th>\n",
              "      <td>WHistory.pdf</td>\n",
              "      <td>2</td>\n",
              "      <td>Page | 2 \\nnot content with simply reaching re...</td>\n",
              "      <td>[0.04789026081562042, -0.050393957644701004, -...</td>\n",
              "      <td>1</td>\n",
              "      <td>Page | 2 \\nnot content with simply reaching re...</td>\n",
              "      <td>[0.024214094504714012, -0.05323855206370354, -...</td>\n",
              "    </tr>\n",
              "    <tr>\n",
              "      <th>3</th>\n",
              "      <td>WHistory.pdf</td>\n",
              "      <td>2</td>\n",
              "      <td>Page | 2 \\nnot content with simply reaching re...</td>\n",
              "      <td>[0.04789026081562042, -0.050393957644701004, -...</td>\n",
              "      <td>2</td>\n",
              "      <td>recognize that written language is a relativel...</td>\n",
              "      <td>[0.0237335916608572, -0.055585552006959915, -0...</td>\n",
              "    </tr>\n",
              "    <tr>\n",
              "      <th>4</th>\n",
              "      <td>WHistory.pdf</td>\n",
              "      <td>2</td>\n",
              "      <td>Page | 2 \\nnot content with simply reaching re...</td>\n",
              "      <td>[0.04789026081562042, -0.050393957644701004, -...</td>\n",
              "      <td>3</td>\n",
              "      <td>o place thousands of organic archaeological ma...</td>\n",
              "      <td>[0.02478783018887043, -0.04510115832090378, -0...</td>\n",
              "    </tr>\n",
              "  </tbody>\n",
              "</table>\n",
              "</div>\n",
              "    <div class=\"colab-df-buttons\">\n",
              "\n",
              "  <div class=\"colab-df-container\">\n",
              "    <button class=\"colab-df-convert\" onclick=\"convertToInteractive('df-34bde3e4-8f4a-46d6-8eb3-12f2870864b2')\"\n",
              "            title=\"Convert this dataframe to an interactive table.\"\n",
              "            style=\"display:none;\">\n",
              "\n",
              "  <svg xmlns=\"http://www.w3.org/2000/svg\" height=\"24px\" viewBox=\"0 -960 960 960\">\n",
              "    <path d=\"M120-120v-720h720v720H120Zm60-500h600v-160H180v160Zm220 220h160v-160H400v160Zm0 220h160v-160H400v160ZM180-400h160v-160H180v160Zm440 0h160v-160H620v160ZM180-180h160v-160H180v160Zm440 0h160v-160H620v160Z\"/>\n",
              "  </svg>\n",
              "    </button>\n",
              "\n",
              "  <style>\n",
              "    .colab-df-container {\n",
              "      display:flex;\n",
              "      gap: 12px;\n",
              "    }\n",
              "\n",
              "    .colab-df-convert {\n",
              "      background-color: #E8F0FE;\n",
              "      border: none;\n",
              "      border-radius: 50%;\n",
              "      cursor: pointer;\n",
              "      display: none;\n",
              "      fill: #1967D2;\n",
              "      height: 32px;\n",
              "      padding: 0 0 0 0;\n",
              "      width: 32px;\n",
              "    }\n",
              "\n",
              "    .colab-df-convert:hover {\n",
              "      background-color: #E2EBFA;\n",
              "      box-shadow: 0px 1px 2px rgba(60, 64, 67, 0.3), 0px 1px 3px 1px rgba(60, 64, 67, 0.15);\n",
              "      fill: #174EA6;\n",
              "    }\n",
              "\n",
              "    .colab-df-buttons div {\n",
              "      margin-bottom: 4px;\n",
              "    }\n",
              "\n",
              "    [theme=dark] .colab-df-convert {\n",
              "      background-color: #3B4455;\n",
              "      fill: #D2E3FC;\n",
              "    }\n",
              "\n",
              "    [theme=dark] .colab-df-convert:hover {\n",
              "      background-color: #434B5C;\n",
              "      box-shadow: 0px 1px 3px 1px rgba(0, 0, 0, 0.15);\n",
              "      filter: drop-shadow(0px 1px 2px rgba(0, 0, 0, 0.3));\n",
              "      fill: #FFFFFF;\n",
              "    }\n",
              "  </style>\n",
              "\n",
              "    <script>\n",
              "      const buttonEl =\n",
              "        document.querySelector('#df-34bde3e4-8f4a-46d6-8eb3-12f2870864b2 button.colab-df-convert');\n",
              "      buttonEl.style.display =\n",
              "        google.colab.kernel.accessAllowed ? 'block' : 'none';\n",
              "\n",
              "      async function convertToInteractive(key) {\n",
              "        const element = document.querySelector('#df-34bde3e4-8f4a-46d6-8eb3-12f2870864b2');\n",
              "        const dataTable =\n",
              "          await google.colab.kernel.invokeFunction('convertToInteractive',\n",
              "                                                    [key], {});\n",
              "        if (!dataTable) return;\n",
              "\n",
              "        const docLinkHtml = 'Like what you see? Visit the ' +\n",
              "          '<a target=\"_blank\" href=https://colab.research.google.com/notebooks/data_table.ipynb>data table notebook</a>'\n",
              "          + ' to learn more about interactive tables.';\n",
              "        element.innerHTML = '';\n",
              "        dataTable['output_type'] = 'display_data';\n",
              "        await google.colab.output.renderOutput(dataTable, element);\n",
              "        const docLink = document.createElement('div');\n",
              "        docLink.innerHTML = docLinkHtml;\n",
              "        element.appendChild(docLink);\n",
              "      }\n",
              "    </script>\n",
              "  </div>\n",
              "\n",
              "\n",
              "<div id=\"df-73959303-3763-48a9-9697-70153b41683d\">\n",
              "  <button class=\"colab-df-quickchart\" onclick=\"quickchart('df-73959303-3763-48a9-9697-70153b41683d')\"\n",
              "            title=\"Suggest charts\"\n",
              "            style=\"display:none;\">\n",
              "\n",
              "<svg xmlns=\"http://www.w3.org/2000/svg\" height=\"24px\"viewBox=\"0 0 24 24\"\n",
              "     width=\"24px\">\n",
              "    <g>\n",
              "        <path d=\"M19 3H5c-1.1 0-2 .9-2 2v14c0 1.1.9 2 2 2h14c1.1 0 2-.9 2-2V5c0-1.1-.9-2-2-2zM9 17H7v-7h2v7zm4 0h-2V7h2v10zm4 0h-2v-4h2v4z\"/>\n",
              "    </g>\n",
              "</svg>\n",
              "  </button>\n",
              "\n",
              "<style>\n",
              "  .colab-df-quickchart {\n",
              "      --bg-color: #E8F0FE;\n",
              "      --fill-color: #1967D2;\n",
              "      --hover-bg-color: #E2EBFA;\n",
              "      --hover-fill-color: #174EA6;\n",
              "      --disabled-fill-color: #AAA;\n",
              "      --disabled-bg-color: #DDD;\n",
              "  }\n",
              "\n",
              "  [theme=dark] .colab-df-quickchart {\n",
              "      --bg-color: #3B4455;\n",
              "      --fill-color: #D2E3FC;\n",
              "      --hover-bg-color: #434B5C;\n",
              "      --hover-fill-color: #FFFFFF;\n",
              "      --disabled-bg-color: #3B4455;\n",
              "      --disabled-fill-color: #666;\n",
              "  }\n",
              "\n",
              "  .colab-df-quickchart {\n",
              "    background-color: var(--bg-color);\n",
              "    border: none;\n",
              "    border-radius: 50%;\n",
              "    cursor: pointer;\n",
              "    display: none;\n",
              "    fill: var(--fill-color);\n",
              "    height: 32px;\n",
              "    padding: 0;\n",
              "    width: 32px;\n",
              "  }\n",
              "\n",
              "  .colab-df-quickchart:hover {\n",
              "    background-color: var(--hover-bg-color);\n",
              "    box-shadow: 0 1px 2px rgba(60, 64, 67, 0.3), 0 1px 3px 1px rgba(60, 64, 67, 0.15);\n",
              "    fill: var(--button-hover-fill-color);\n",
              "  }\n",
              "\n",
              "  .colab-df-quickchart-complete:disabled,\n",
              "  .colab-df-quickchart-complete:disabled:hover {\n",
              "    background-color: var(--disabled-bg-color);\n",
              "    fill: var(--disabled-fill-color);\n",
              "    box-shadow: none;\n",
              "  }\n",
              "\n",
              "  .colab-df-spinner {\n",
              "    border: 2px solid var(--fill-color);\n",
              "    border-color: transparent;\n",
              "    border-bottom-color: var(--fill-color);\n",
              "    animation:\n",
              "      spin 1s steps(1) infinite;\n",
              "  }\n",
              "\n",
              "  @keyframes spin {\n",
              "    0% {\n",
              "      border-color: transparent;\n",
              "      border-bottom-color: var(--fill-color);\n",
              "      border-left-color: var(--fill-color);\n",
              "    }\n",
              "    20% {\n",
              "      border-color: transparent;\n",
              "      border-left-color: var(--fill-color);\n",
              "      border-top-color: var(--fill-color);\n",
              "    }\n",
              "    30% {\n",
              "      border-color: transparent;\n",
              "      border-left-color: var(--fill-color);\n",
              "      border-top-color: var(--fill-color);\n",
              "      border-right-color: var(--fill-color);\n",
              "    }\n",
              "    40% {\n",
              "      border-color: transparent;\n",
              "      border-right-color: var(--fill-color);\n",
              "      border-top-color: var(--fill-color);\n",
              "    }\n",
              "    60% {\n",
              "      border-color: transparent;\n",
              "      border-right-color: var(--fill-color);\n",
              "    }\n",
              "    80% {\n",
              "      border-color: transparent;\n",
              "      border-right-color: var(--fill-color);\n",
              "      border-bottom-color: var(--fill-color);\n",
              "    }\n",
              "    90% {\n",
              "      border-color: transparent;\n",
              "      border-bottom-color: var(--fill-color);\n",
              "    }\n",
              "  }\n",
              "</style>\n",
              "\n",
              "  <script>\n",
              "    async function quickchart(key) {\n",
              "      const quickchartButtonEl =\n",
              "        document.querySelector('#' + key + ' button');\n",
              "      quickchartButtonEl.disabled = true;  // To prevent multiple clicks.\n",
              "      quickchartButtonEl.classList.add('colab-df-spinner');\n",
              "      try {\n",
              "        const charts = await google.colab.kernel.invokeFunction(\n",
              "            'suggestCharts', [key], {});\n",
              "      } catch (error) {\n",
              "        console.error('Error during call to suggestCharts:', error);\n",
              "      }\n",
              "      quickchartButtonEl.classList.remove('colab-df-spinner');\n",
              "      quickchartButtonEl.classList.add('colab-df-quickchart-complete');\n",
              "    }\n",
              "    (() => {\n",
              "      let quickchartButtonEl =\n",
              "        document.querySelector('#df-73959303-3763-48a9-9697-70153b41683d button');\n",
              "      quickchartButtonEl.style.display =\n",
              "        google.colab.kernel.accessAllowed ? 'block' : 'none';\n",
              "    })();\n",
              "  </script>\n",
              "</div>\n",
              "    </div>\n",
              "  </div>\n"
            ]
          },
          "metadata": {},
          "execution_count": 14
        }
      ]
    },
    {
      "cell_type": "code",
      "source": [
        "from utils.intro_multimodal_rag_utils import get_image_embedding_from_multimodal_embedding_model"
      ],
      "metadata": {
        "id": "DBFfPG5MycJr"
      },
      "id": "DBFfPG5MycJr",
      "execution_count": null,
      "outputs": []
    },
    {
      "cell_type": "code",
      "source": [],
      "metadata": {
        "id": "h2kerUQNRDN4"
      },
      "id": "h2kerUQNRDN4",
      "execution_count": null,
      "outputs": []
    },
    {
      "cell_type": "code",
      "source": [
        "image_path = \"/content/test/test_bnb.png\""
      ],
      "metadata": {
        "id": "5V4PlQK5zN9x"
      },
      "id": "5V4PlQK5zN9x",
      "execution_count": null,
      "outputs": []
    },
    {
      "cell_type": "code",
      "source": [
        "\n",
        "input = get_image_embedding_from_multimodal_embedding_model(image_path)\n",
        "\n",
        "print(\"image embedded as \")\n",
        "print(input)"
      ],
      "metadata": {
        "colab": {
          "base_uri": "https://localhost:8080/"
        },
        "id": "2qZS89ghQTV8",
        "outputId": "430422c1-1041-45fc-9804-3b5dd452b3d4"
      },
      "id": "2qZS89ghQTV8",
      "execution_count": null,
      "outputs": [
        {
          "output_type": "stream",
          "name": "stdout",
          "text": [
            "image embedded as \n",
            "[-0.0537037477, -0.00713878125, -0.0103328247, -0.0191329084, 0.00586127071, 0.0220488701, 0.0276249275, 0.00245474512, 0.0222811196, 0.0699602365, -0.00901411846, 0.00449548196, 0.000588347495, 0.0802381337, 0.00745163672, -0.0977978855, -0.0351013355, -0.0177878216, 0.00837922376, -0.0930151939, 0.0347562507, 0.0328606367, 0.0594967157, 0.000310771487, -0.0188690871, 0.0206458047, 0.0080312416, 0.00692307204, -0.0660736561, 0.0938671306, 0.0251834933, -0.00714566652, -0.0097152153, -0.0875541791, 0.0572152734, -0.0182159971, 0.00253154081, 0.00737167196, -0.0258722752, 0.0308947731, 0.0547755621, -0.0797966719, -0.0200478639, 0.0169651, 0.00364810647, -0.009976089, 0.0214181654, -0.0337462761, -0.0111179668, -0.0472144745, 0.054613661, -0.00586275198, -0.00938725751, -0.0680521652, 0.0275925528, 0.02578949, 0.0195476, -0.0133784646, -0.0147170648, -0.00895059202, 0.0316805169, -0.0149453487, 0.0431405194, -0.00696413126, 0.0430949517, -0.0214700568, 0.0376875699, -0.0271635987, -0.00296277064, 0.0566940531, 0.00793340616, 0.0554815, 0.00958018, -0.00378012122, 0.00371411769, -0.0766837522, 0.0867445543, -0.0235288497, 0.00193393067, 0.0492299274, 0.0462439843, -0.0102644879, 0.0218539089, -0.00189836987, -0.022853354, 0.0138289016, 0.0123341428, 0.0420333296, -0.0321924202, 0.0202377569, -0.0320410691, 0.0399768353, -0.0358338468, -0.0343070701, 0.00672184676, -0.0147698624, 0.00513651967, 0.0149272038, 0.0169460159, 0.017669104, -0.0306198355, 0.0403441042, 0.0432830825, 0.0121119944, 0.000435391295, -0.0902485773, 0.0140933637, 0.021095423, -0.0315278322, 0.0314638428, -0.0145255895, -0.0140884602, -0.0350436158, -0.0306739602, -0.0629147366, -0.00744307507, 0.0442371257, -0.0469112471, -0.0173741467, 0.0177924596, 0.0292379875, -0.0423425697, -0.043164216, -0.037937887, -0.0799043849, -0.00400264282, 0.063281931, -0.00320272474, -0.0460599288, -0.0114637986, 0.0571925156, -0.0398679934, -0.0557234921, 0.0410535373, -0.0422290489, 0.0342080593, -0.0417591333, 0.00574710313, -0.0478648134, 0.00104818412, 0.0213308893, 0.00735073956, -0.0254123248, 0.0523739718, 0.0271964837, 0.0389888324, 0.035440024, -0.0210998505, -0.0392222852, -0.0502716117, 0.058324296, 0.0285249781, 0.0402871743, -0.0535648838, -0.00890626572, -0.0268594436, 0.0318680517, -0.00878701173, 0.0247967429, 0.0261855181, 0.0438441858, -0.0106295738, -0.0376103297, -0.00922478363, 0.0402260832, -0.0745087564, 3.72874965e-05, -0.0333260037, 0.0701993406, 0.0521965213, 0.0744709, 0.0224439353, 0.0328637138, 0.00213988847, -0.00995069742, 0.0553954914, -0.00147701241, 0.0429953225, 0.022449607, 0.000156734983, 0.0615663193, 0.025127653, -0.025407752, -0.0414555669, -0.00545893703, 0.0167508498, 0.0839998722, -0.0274697412, 0.015192288, -0.055893492, -0.0371568315, -0.0335276462, -0.0170437768, 0.0291204322, 0.00633709319, -0.0166455247, 0.0278785899, -0.0224288609, -0.00822093524, -0.0129009495, 0.0544703603, -0.0182347652, -0.0306894183, -0.0438915566, -0.00046110386, -0.0844139, -0.0534933396, -0.00229070964, 0.0512617454, 0.0249284096, -0.00976240262, 0.0420085229, -0.0348461494, 0.0345556699, -0.0183768012, 0.00625071255, 0.0210269596, 0.0252696685, 0.0374361798, 0.0582772344, 0.0402241386, -0.0259112585, -0.0680751, -0.0567961559, 0.0457388759, -0.0661750361, 0.021812398, 0.010088413, 0.024713587, 0.0024086237, -0.0100871008, -0.0202868357, 0.00558444, 0.00698897801, -0.0347477868, 0.0357243158, -0.0135789076, 0.0274456851, -0.0581319854, 0.00903902575, 0.0524728671, -0.00560084, -0.00133631786, -0.00687382, 0.0685407668, -0.00632757694, -0.026742842, 0.00433304859, -0.0739522874, 0.0285918918, -0.0142274043, 0.00438215, 0.0383313298, 0.0213200692, -0.00391423, 0.0564777367, 0.0402080119, -0.0189375244, -0.0211132821, 0.0254496075, -0.0380670391, 0.030450061, -0.0296143461, -0.0442248471, -0.0200567394, 0.0404342115, -0.0163610876, 0.0248824824, 0.0926543251, 0.0241906643, -0.0736563578, 0.0612528473, -0.0338115729, 0.0236386638, 0.0498371907, -0.00301481714, 0.093185164, 0.011373722, -0.0370772742, -0.000496590044, 0.0257701594, 0.047808636, -0.0153285172, -0.000841791, 0.00316405203, -0.0187091157, -0.000569998112, -0.0538824685, -0.037710689, -0.0313076526, -0.00873810891, -0.0119135343, 0.0738531128, 0.0321066231, 0.0104311639, -0.0229307879, 0.0183464978, -0.025539, -0.0403621644, -0.0330227613, 0.0170782898, 0.0202080589, -0.0547898, 0.044295907, 0.0259986166, 0.234772816, -0.0249765012, 0.0360732861, 0.0051261303, -0.00211677281, 0.0346460938, 0.351213694, -0.0368134975, -0.0315830335, 0.0445392877, -0.00278470898, 0.0490586087, -0.00818675384, 0.030704245, -0.0351687446, 0.0187796839, 0.0450804159, 0.0449924842, 0.00654716231, -0.0242829714, 0.0157328285, 0.0393255688, 0.0274843089, 0.0163448453, 0.024648048, -0.03082758, -0.052303873, -0.0243482385, -0.017934164, -0.0478566512, -0.0648388, 0.0158706661, 0.0599296652, -0.0423684344, 0.0767150074, 0.0209865645, 0.0135585722, -0.0161189307, 0.0252947491, 0.0292323, -0.00866542384, -0.0321089551, -0.00249531097, 0.0290931128, -0.0317189544, 0.150222138, 0.0459198, -0.0315614901, 0.0228744, 0.0659335926, -0.00644556247, -0.0214303695, 0.0251384526, 0.0139216008, 0.0290561151, 0.0112738246, -0.0247811936, 0.0139506431, -0.0432409681, -0.00700468151, -0.0477165617, 0.014515684, -0.00778546324, 0.0221124515, 0.0387524441, -0.000372033071, 0.0210566632, 0.011883216, -0.000742308912, -0.050348632, -0.0590563305, -0.0119512985, -0.060175769, -0.00852946844, -0.0143057834, -0.00163515145, -0.0551333316, 0.00825616345, 0.0509006716, -0.0109831858, 0.00404807972, 0.075275071, -0.0269745588, -0.0263657, 0.0407033414, 0.00758503284, -0.0547598116, -0.0178690813, 0.039836362, -0.0448183, -0.0349307023, 0.0144775407, 0.0172700118, -0.00392087549, 0.00769567303, 0.0292174816, -0.00297173252, -0.0151422797, -0.00650771707, 0.0351880156, 0.0264872406, -0.0184302889, -0.0448953062, 0.0491336212, -0.0178484209, 0.0446323939, -0.0479478575, -0.0559112579, -0.00555303879, -0.057589937, -0.00208212715, -0.0306859128, -0.0792564526, -0.0115856891, 0.00316317263, -0.0351583585, 0.00813077483, 0.00757558364, -0.00754605932, -0.00839400105, -0.0113741513, 0.0383136868, -0.016679246, -0.0432854816, 0.0178731438, 0.0275622252, -0.0184747521, -0.00354464701, -0.0524326749, -0.0218494534, 0.0030830903, 0.0851708, 0.0221852642, 0.324938834, -0.029424997, -0.0679577142, -0.0116890464, 0.0015665862, -0.0155215897, 0.0541845188, 0.00316958595, -0.0681467652, -0.0100362794, 0.0427461751, -0.00826178398, -0.0412881747, -0.0318527445, 0.0293196309, 0.00551013695, -0.0253977273, 0.0757631958, -0.0447487868, -0.0315148309, 0.0448853038, -0.0988824368, -0.0983403474, 0.0455854647, 0.000131538633, 0.010563381, -0.0149340061, -0.0164887607, -0.00706804451, -0.0659723356, 0.0510303415, 0.0170997512, -0.0650569, -0.0450132899, 0.113901727, 0.0371882245, -0.0252485964, -0.0260008462, 0.0593500249, -0.0249093976, 0.00163636904, -0.0121154413, 0.0503173806, -0.02128819, -0.0490495302, 0.0850835741, 0.000322489854, 0.0439662449, 0.00603488041, 0.0291201342, 0.0240871776, -0.030131992, 0.0219054651, 0.0656714812, -0.0531101562, -0.0282984469, 0.0201111026, -0.0463557281, -0.0143392645, 0.0130739613, -0.016468972, 0.0342654064, 0.00530118914, -0.0172683783, -0.0265300386, -0.0179570168, -0.015010342, 0.0279677585, -0.0263376422, 0.0110854385, -0.0477749445, -0.0533720814, 0.0118300496, 0.0141379256]\n"
          ]
        }
      ]
    },
    {
      "cell_type": "code",
      "source": [
        "from utils.intro_multimodal_rag_utils import get_user_query_text_embeddings\n",
        "from utils.intro_multimodal_rag_utils import get_similar_text_from_query\n",
        "from utils.intro_multimodal_rag_utils import print_text_to_text_citation\n",
        "from utils.intro_multimodal_rag_utils import get_gemini_response"
      ],
      "metadata": {
        "id": "d9LSXXRoRAmq"
      },
      "id": "d9LSXXRoRAmq",
      "execution_count": null,
      "outputs": []
    },
    {
      "cell_type": "code",
      "source": [
        "test_question = \"when humans invented fire?\""
      ],
      "metadata": {
        "id": "N09QlzuERIyo"
      },
      "id": "N09QlzuERIyo",
      "execution_count": null,
      "outputs": []
    },
    {
      "cell_type": "code",
      "source": [
        "question_emb = get_user_query_text_embeddings(user_query=test_question)\n",
        "print(\"question text embeded as \")\n",
        "print(question_emb)"
      ],
      "metadata": {
        "colab": {
          "base_uri": "https://localhost:8080/"
        },
        "id": "Lf_VtlxwRYep",
        "outputId": "4b121def-0746-4e43-b033-9ea7db87ea7b"
      },
      "id": "Lf_VtlxwRYep",
      "execution_count": null,
      "outputs": [
        {
          "output_type": "stream",
          "name": "stdout",
          "text": [
            "question text embeded as \n",
            "[0.00024034954549279064, -0.0008928846218623221, -0.04793740063905716, -0.02908826433122158, -0.01935063675045967, 0.04628660902380943, 0.007986307144165039, -0.02801348827779293, 0.054290831089019775, 0.06415677815675735, -0.016750048846006393, 0.025571297854185104, 0.00935272965580225, -0.016128651797771454, -0.004384662490338087, -0.019927019253373146, 0.016864454373717308, 0.006599577609449625, 0.039144862443208694, -0.03343873843550682, 0.021993957459926605, 0.0059610167518258095, 0.0006416163523681462, 0.010412795469164848, 0.015189503319561481, 0.003148657502606511, 0.0344136543571949, -0.09006202965974808, -0.011696860194206238, 0.04203469678759575, -0.07418373972177505, -0.01746145449578762, -0.03622567653656006, -0.009693005122244358, -0.0552336610853672, -0.032150354236364365, 0.0005245424108579755, 0.0347786583006382, 0.05098942667245865, 0.008287432603538036, 0.007771356031298637, 0.025971313938498497, -0.04865673929452896, -0.0154455890879035, 0.05010651424527168, -0.022916486486792564, -0.001241684309206903, 0.038036346435546875, 0.0008886578143574297, -0.031008785590529442, 0.044457875192165375, 0.032343458384275436, 0.0497296079993248, -0.008880455046892166, -0.04707258194684982, -0.07562416046857834, 0.04002969712018967, 0.04511499032378197, -0.04895173758268356, 0.012932932004332542, 0.01200931891798973, 0.0036002437118440866, -0.06551017612218857, 0.051110368221998215, -0.02081177569925785, 0.015114367939531803, -0.03439871221780777, 0.057089902460575104, 0.029083162546157837, -0.020755739882588387, -0.011355005204677582, -0.05338118225336075, 0.04865669086575508, -0.04618307203054428, -0.013209035620093346, -0.06114997714757919, -0.02968650683760643, 0.07091284543275833, 0.019047273322939873, 0.027348065748810768, -0.011336727067828178, -0.03579416871070862, 0.009448720142245293, -0.013056845404207706, -0.07112392038106918, -0.028003795072436333, 0.012877153232693672, 0.026562843471765518, 0.027341172099113464, 0.0938291847705841, -0.028653841465711594, -0.00580520648509264, 0.05393748730421066, -0.028452808037400246, 0.003116047475486994, 0.08030913770198822, -0.03927431255578995, 0.00027218175819143653, -0.0005391669110395014, 0.013945220038294792, -0.011814515106379986, -0.04742215946316719, -0.013705115765333176, 0.0291703213006258, 0.003616407047957182, 0.0020942678675055504, 0.03553975000977516, 0.011785144917666912, -0.015553598292171955, 0.017802488058805466, -0.04423506185412407, -0.0275055393576622, -0.03544973209500313, -0.02084409072995186, 0.027088668197393417, -0.007187211886048317, 0.014553776010870934, 0.027009258046746254, 0.003523588413372636, -0.014520064927637577, 0.0012341256951913238, 0.01779336854815483, 0.08451932668685913, 0.005299180280417204, -0.011643528938293457, -0.012736426666378975, 0.023468833416700363, 0.03146342188119888, -0.021429309621453285, 0.0132194384932518, -0.03198869153857231, -0.039214204996824265, 0.03163193166255951, 0.0009294738993048668, -0.026625551283359528, 0.06248868629336357, -0.00299624796025455, -0.03401945158839226, 0.04597922042012215, 0.045959778130054474, 0.03168138489127159, 0.03986813500523567, -0.005243986379355192, 0.03537111356854439, -0.008140282705426216, 0.0032185858581215143, -0.04838097468018532, -0.02533574029803276, 0.024955185130238533, -0.0021747236605733633, -0.0039016634691506624, -0.03455381840467453, -0.02514180913567543, -0.010800975374877453, 0.02915133535861969, 0.021029815077781677, -0.05066220089793205, 0.09521806240081787, -0.024486791342496872, -0.0281605813652277, 0.005996401887387037, 0.028769677504897118, 0.048709847033023834, -8.951882045948878e-05, -0.04687009006738663, -0.05079730972647667, 0.03262784704566002, 0.00038400632911361754, 0.033941417932510376, 0.017400942742824554, -0.035890959203243256, 0.03169633820652962, -0.02854425087571144, -0.025736724957823753, 0.0227423757314682, -0.04161611944437027, -0.030197104439139366, 0.032612115144729614, -0.022128885611891747, -0.045434050261974335, -0.05321664363145828, -0.025906089693307877, -0.042806170880794525, 0.028912214562296867, 0.04555441066622734, 0.020923616364598274, 0.06896795332431793, -0.005219387821853161, 0.008652745746076107, 0.035512834787368774, 0.0445978008210659, 0.002039198763668537, -0.03236407786607742, 0.028905441984534264, -0.006714454852044582, 0.01700682006776333, 0.012376938946545124, 0.013788124546408653, -0.02149799093604088, -0.0340711809694767, 0.030103540048003197, 0.06430399417877197, 0.006785471457988024, -0.02925562672317028, 0.03952644765377045, -0.0043174694292247295, 0.058733951300382614, -0.026450078934431076, -0.01913757435977459, 0.04233121499419212, -0.01620042510330677, 0.012508298270404339, -0.0158266369253397, -0.006667030975222588, 0.020931344479322433, 0.033399492502212524, 0.053494419902563095, 0.051259033381938934, 0.006518776994198561, -0.006793646141886711, -0.05334380641579628, -0.0007634959183633327, 0.017771758139133453, 0.08092011511325836, -0.013373094610869884, 0.07392704486846924, -0.0338267907500267, 0.00689053675159812, -0.00928416196256876, -0.07928051799535751, -0.043163180351257324, 0.004997734446078539, -0.015047796070575714, -0.007120764348655939, 0.04314493015408516, 0.0091605419293046, -0.003960002213716507, 0.016047410666942596, 0.05273885652422905, -0.005863889120519161, -0.08524718135595322, -0.0001039776107063517, 0.0709204152226448, -0.05804887041449547, -0.049802105873823166, -0.042842768132686615, -0.02376340702176094, 0.043425604701042175, -0.002269156975671649, 0.055015500634908676, 0.004314217250794172, -0.050190724432468414, 0.006892434787005186, 0.05747780576348305, -0.05750858411192894, 0.02055683545768261, -0.04477104917168617, 0.0285353846848011, -0.011280672624707222, 0.06873278319835663, 0.06584582477807999, -0.02790484018623829, 0.039444778114557266, 0.026631668210029602, -0.020921267569065094, -0.009676828980445862, -0.023903600871562958, -0.05849352851510048, 0.04238762706518173, 0.034012310206890106, -0.010509937070310116, 0.01359690260142088, 0.07227802276611328, -0.025662168860435486, -0.008738508448004723, 0.01919306069612503, 0.03668668866157532, 0.02294258400797844, -0.005933660082519054, -0.004738347604870796, -0.00930995587259531, -0.024916380643844604, 0.012935133650898933, -0.04526502266526222, -0.021848531439900398, -0.045003119856119156, -0.07479355484247208, -0.023479843512177467, 0.05151461064815521, -0.03383178636431694, -0.06137533113360405, -0.045282188802957535, -0.04306982085108757, -0.03904970735311508, -0.06870875507593155, 0.002473308239132166, -0.0034468749072402716, 0.0035224445164203644, 0.00526077626273036, 0.00567686278373003, -0.012967392802238464, 0.010326210409402847, 0.028790157288312912, -0.07189875096082687, -0.0031405885238200426, 0.03354247286915779, -0.011239266954362392, -0.04973723366856575, 0.012716111727058887, -0.03496735915541649, -0.021694542840123177, 0.005683422088623047, -0.03854254260659218, 0.03196188062429428, 0.03672359883785248, -0.018243778496980667, 0.0018479828722774982, 0.0236895140260458, 0.003423216287046671, 0.021875370293855667, 0.023141562938690186, 0.045355722308158875, -0.03947950154542923, -0.021014675498008728, 0.00720779225230217, -0.013134749606251717, -0.004955471958965063, 0.04713058099150658, 0.0016999319195747375, -0.011048177257180214, -0.055142760276794434, 0.015342551283538342, -0.09020965546369553, -0.004096421413123608, 0.03907918557524681, 0.021033750846982002, -0.07346878945827484, 0.02734661102294922, -0.06459295004606247, 0.01534321904182434, 0.03364773094654083, -0.009118222631514072, -0.029126811772584915, 0.0026437779888510704, -0.010939975269138813, -0.04155920073390007, -0.02621294930577278, -0.012221102602779865, 0.052397798746824265, 0.02889934368431568, -0.04789670184254646, 0.024181999266147614, -0.0377795584499836, -0.045970555394887924, -0.02263273485004902, 0.000568352872505784, 0.026112908497452736, -0.025319134816527367, 0.0013239590916782618, -0.008455997332930565, -0.07115939259529114, 0.09683861583471298, -0.022922897711396217, 0.006781190633773804, 0.026320161297917366, 0.043987248092889786, 0.025662599131464958, -0.03707349672913551, -0.03965632990002632, 0.02996082603931427, -0.0006698095821775496, -0.03124692291021347, 0.027543704956769943, -0.046180952340364456, 0.007002454716712236, -0.032401759177446365, -0.08337048441171646, -0.006450230255723, 0.0023946291767060757, -0.054632045328617096, -0.037263453006744385, -0.03440970927476883, 0.012507143430411816, 0.024128898978233337, 0.08706068992614746, -0.0010226113954558969, 0.012738822028040886, 0.05637245252728462, -0.002546314848586917, 0.03564716875553131, 0.023644836619496346, -0.004125550389289856, 0.0346921868622303, 4.30963518738281e-05, 0.010171649046242237, 0.034098636358976364, -0.033777300268411636, -0.004420359153300524, 0.00042387450230307877, -0.01047001127153635, -0.04421199485659599, -0.0054443590342998505, -0.033160630613565445, -0.06157022342085838, -0.022660529240965843, -0.03416851907968521, -0.0302420724183321, 0.011648036539554596, 0.052229445427656174, -0.024888992309570312, 0.013214499689638615, 0.004857832100242376, 0.03359964117407799, -0.08036676794290543, -0.03787214681506157, 0.0032339661847800016, 0.011819022707641125, -0.0007023914949968457, 0.024378592148423195, 0.06649744510650635, -0.03497352451086044, 0.018474988639354706, -0.005230901297181845, 0.06586815416812897, -0.018071521073579788, -0.048845987766981125, -0.022801918908953667, -0.041194505989551544, -0.027850624173879623, -0.012965050525963306, 0.03058287315070629, 0.022583097219467163, 0.005678229033946991, -0.025962037965655327, -0.015659155324101448, -0.04474741220474243, -0.01964673399925232, -0.022873839363455772, -0.016122885048389435, -0.002694843802601099, -0.030843300744891167, -0.01768248714506626, 0.012960837222635746, -0.02260628156363964, -0.06542635709047318, -0.05444740131497383, -0.03593267500400543, -0.003391358768567443, -0.0013923548394814134, -0.06528016179800034, 0.07642383873462677, -0.05290424823760986, 0.01835102029144764, -0.04631084203720093, 0.03786857798695564, -0.04924562945961952, -0.015591667965054512, 0.03461262211203575, 0.05194763094186783, 0.028073834255337715, -0.007532051298767328, -0.036303985863924026, 0.007083083502948284, -0.07018230110406876, 0.02502022683620453, -0.021964306011795998, 0.027632292360067368, -0.04305840656161308, 0.04357914626598358, 0.009260771796107292, 0.002199784619733691, -0.02046111971139908, 0.006713261362165213, 0.01848621852695942, -0.02462173067033291, 0.01327426452189684, -0.015942024067044258, 0.017174948006868362, -0.057319287210702896, -0.03685788810253143, -0.022807853296399117, 0.00580682372674346, 0.027172980830073357, 0.05882526934146881, 0.005002215038985014, -0.025363143533468246, 0.011197648011147976, -0.03273046016693115, -0.03860919922590256, 0.02487342059612274, -0.015423595905303955, -0.014651929028332233, -0.0037545431405305862, -0.026013260707259178, -0.0024592506233602762, 0.01054067350924015, -0.02674306370317936, 0.037486832588911057, -0.020464453846216202, -0.01263413392007351, 0.01125544123351574, -0.07476682960987091, 0.028922341763973236, -0.03152094781398773, 0.09340332448482513, -0.0452285036444664, 0.048064105212688446, 0.015623739920556545, -0.013516450300812721, -0.00869832094758749, 0.017981138080358505, 0.07369844615459442, -0.0014828349230811, -0.018570218235254288, 0.030823109671473503, 0.005065751262009144, -0.036645472049713135, -0.00022937229368835688, 0.02469189465045929, -0.028875067830085754, 0.052765026688575745, 0.016658412292599678, -0.10844459384679794, -0.03655678406357765, 0.01400407962501049, -0.05295887589454651, -0.027305148541927338, 0.07188843935728073, -0.10366512835025787, 0.017424525693058968, -0.05181940272450447, 0.07334664463996887, -0.026687726378440857, -0.015574037097394466, 0.020419204607605934, -0.027378013357520103, 0.01978599838912487, 0.05377599596977234, 0.03807559236884117, 0.01734200492501259, -0.024086447432637215, -0.016966134309768677, 0.053003761917352676, 0.0024888685438781977, 0.0485491119325161, 0.012974455021321774, 0.015813767910003662, -0.10443982481956482, 0.016721362248063087, -0.05498388409614563, -0.045468829572200775, -0.014935456216335297, -0.0020372753497213125, -0.03265005350112915, 0.054513972252607346, -0.017289768904447556, -0.0424993559718132, 0.008023629896342754, -0.04726475104689598, 0.010474792681634426, -0.005331993568688631, -0.016436824575066566, 0.03689946234226227, -0.02828150801360607, 0.05651630461215973, 0.03922558203339577, 0.000889874470885843, -0.00583175104111433, 0.032285891473293304, -0.010373489931225777, 0.004863556940108538, 0.009235386736690998, -0.015133013017475605, 0.019132770597934723, 0.027993300929665565, -0.039498843252658844, -0.02254524640738964, -0.06538154929876328, -0.024782923981547356, 0.020371917635202408, 0.05173350125551224, 0.0009863227605819702, -0.012174972333014011, -0.017722729593515396, -0.062290724366903305, -0.019117366522550583, 0.020755907520651817, 0.04325604438781738, 0.0061494396068155766, 0.05372534692287445, -0.018335871398448944, 0.015187974087893963, -0.03705000877380371, 0.01949852891266346, -0.006372756324708462, 0.019651753827929497, 0.04671092703938484, 0.0009564227075316012, 0.0015354858478531241, -0.043399445712566376, 0.011708483099937439, -0.05322561413049698, 0.01757960207760334, -0.10502111911773682, -0.004418487194925547, 0.0022694822400808334, 0.005182237830013037, -0.00820267666131258, -0.002456068992614746, 0.05273088440299034, -0.0246355589479208, -0.025968562811613083, 0.0013584159314632416, -0.07544269412755966, -0.04041828587651253, -0.03335445001721382, 0.017873018980026245, -0.03108166716992855, -0.011846987530589104, -0.050767846405506134, -0.014316510409116745, -0.04125537350773811, -0.017154181376099586, 0.00247130892239511, 0.11000104993581772, -0.023707667365670204, 0.0002873286430258304, -0.006018523126840591, 0.018379371613264084, 0.032385941594839096, 0.08282677829265594, 0.05875915288925171, 0.03610389307141304, -0.026041150093078613, -0.060019318014383316, -0.027887383475899696, -0.04533769190311432, -0.051260922104120255, -0.005818110425025225, 0.0313752107322216, -0.06209228187799454, 0.005102936644107103, 0.05435183271765709, -0.05591851472854614, -0.04812714830040932, 0.0829877257347107, -0.023790108039975166, -0.06271835416555405, 0.005883341189473867, -0.03072538785636425, -0.050254400819540024, 0.006458863150328398, 0.016027206555008888, 0.02423209510743618, 0.019922861829400063, 0.04327412694692612, -0.03451196849346161, -0.034032948315143585, -0.009058156050741673, -0.06351779401302338, -0.06546305119991302, 0.012518604286015034, -0.013058222830295563, -0.02118283323943615, 0.011655259877443314, 0.018736902624368668, -0.0763416662812233, -0.08597033470869064, -0.04016518220305443, -0.006560021545737982, -0.042353104799985886, 0.03496742621064186, 0.05186988785862923, -0.014719794504344463, 0.005672480911016464, 0.029228338971734047, -0.011647814884781837, -0.040667276829481125, 0.021401414647698402, 0.01429824624210596, -0.02996210940182209, -0.00753598939627409, -0.02910473197698593, 0.013661959208548069, 0.023047875612974167, -0.023087510839104652, 0.0518239326775074, -0.008786650374531746, -0.049340661615133286, -0.019429683685302734, 0.050811007618904114, 0.002574477344751358, -0.027940496802330017, 0.013850487768650055, 0.030466407537460327, -0.0031454607378691435, -0.017168141901493073, 0.001513918861746788, -0.013299508020281792, 0.04499494656920433, -0.03747900575399399, -0.03722764551639557, 0.011694155633449554, -0.02341424487531185, 0.006804302334785461, 0.06320657581090927, -0.01730961725115776, 0.014317851513624191, -0.009773059748113155, 0.009555131196975708, -0.007646345533430576, -0.034400273114442825, -0.04271136596798897, 0.035185955464839935, -0.015553968958556652, -0.0744607225060463, 0.0364900566637516, 0.007144473493099213, -0.01283777691423893, 0.06926504522562027, 0.01809314452111721, -0.02406405657529831, 0.0033293047454208136, -0.05214777961373329, -0.03683529794216156, 0.03791815787553787, -0.054782696068286896, 0.03735801950097084, 0.014262581244111061, -0.03978995606303215, 0.06603354960680008, -0.012729616835713387, -0.03228374570608139, 0.06316786259412766, 0.01493837870657444, 0.009278299286961555, -0.0470089390873909, 0.006257702596485615, -0.025643007829785347, -0.07904595881700516, 0.005137016996741295, 0.04016680270433426, 0.03521532192826271, 0.009848255664110184, 0.04216179624199867, -0.020435573533177376, 0.005962527822703123, -0.011272339150309563, -0.00717143714427948, -0.023327920585870743, -0.03399760648608208, -0.03216581419110298, 0.015468448400497437, 0.06777390092611313, 0.023576680570840836, -0.006830289028584957, -0.006142859347164631, -0.026120595633983612, 0.01611674763262272, -0.029027726501226425, -0.019861366599798203, 0.06674618273973465, 0.004644494503736496, 0.05500936880707741, 0.007497036829590797, 0.010697114281356335, -0.0130622498691082, 0.004945935681462288]\n"
          ]
        }
      ]
    },
    {
      "cell_type": "code",
      "source": [
        "matching_results_chunks_data = get_similar_text_from_query(\n",
        "    query=test_question,\n",
        "    text_metadata_df=text_metadata_df,\n",
        "    column_name=\"text_embedding_chunk\",\n",
        "    top_n = 1,\n",
        "    chunk_text=True,\n",
        "    print_citation = False)"
      ],
      "metadata": {
        "id": "qdqOcApWSaMn"
      },
      "id": "qdqOcApWSaMn",
      "execution_count": null,
      "outputs": []
    },
    {
      "cell_type": "code",
      "source": [
        "print_text_to_text_citation(\n",
        "    matching_results_chunks_data,\n",
        "    print_top=False,\n",
        "    chunk_text=True\n",
        ")"
      ],
      "metadata": {
        "colab": {
          "base_uri": "https://localhost:8080/"
        },
        "id": "PkzMy9zBa3W5",
        "outputId": "32eb02a8-3f13-4d4f-a869-078b3f11113b"
      },
      "id": "PkzMy9zBa3W5",
      "execution_count": null,
      "outputs": [
        {
          "output_type": "stream",
          "name": "stdout",
          "text": [
            "\u001b[31mCitation 1: Matched text:\u001b[0m\n",
            "\u001b[34mScore:\u001b[0m 0.7\n",
            "\u001b[34mFile name:\u001b[0m WHistory.pdf\n",
            "\u001b[34mPage:\u001b[0m 10\n",
            "\u001b[34mPage number:\u001b[0m 10\n",
            "\u001b[34mChunk number:\u001b[0m 2\n",
            "\u001b[34mChunk text:\u001b[0m akes, [and] \n",
            "lasted for 1 million years with little change \n",
            "[from 2.6 to 1.5 million years ago]. 10 The \n",
            "Oldowan were followed about 1.5 million \n",
            "years ago by hand axes that remained \n",
            "unchanged for more than a million years. \n",
            "Many scholars argue that these small-\n",
            "er-brained hominids like Homo habilis, \n",
            "homo ergaster, and Australopithecus \n",
            "were both unable and unwilling to \n",
            "innovate much beyond their simple but \n",
            "effective tools, especially considering how \n",
            "harsh their environment could become. \n",
            "Fire was another important tool, first \n",
            "used by Homo erectus about 1.6 million \n",
            "years ago. Fire would become important \n",
            "to migrants to colder climes in Europe \n",
            "and Asia and to foragers who could now \n",
            "eat foods that were poisonous if ingested raw. Homo erectus also cooked foods they had previously \n",
            "eaten raw, thereby expanding their lifespan by eliminating toxins found in raw meats. \n",
            "Homo sapiens would add more meat to their diet when advances in tool-making led to an \n",
            "increase in big game hunting\n"
          ]
        }
      ]
    },
    {
      "cell_type": "code",
      "source": [
        "# Create an empty list named \"context_text\". This list will be used to store the combined chunks of text.\n",
        "context_text = list()"
      ],
      "metadata": {
        "id": "B13pydgjbXo4"
      },
      "id": "B13pydgjbXo4",
      "execution_count": null,
      "outputs": []
    },
    {
      "cell_type": "code",
      "source": [
        "for key, value in matching_results_chunks_data.items():\n",
        "    context_text.append(value[\"chunk_text\"])"
      ],
      "metadata": {
        "id": "Lwys-vguclpw"
      },
      "id": "Lwys-vguclpw",
      "execution_count": null,
      "outputs": []
    },
    {
      "cell_type": "code",
      "source": [],
      "metadata": {
        "id": "9w8rdUUWepWy"
      },
      "id": "9w8rdUUWepWy",
      "execution_count": null,
      "outputs": []
    },
    {
      "cell_type": "code",
      "source": [
        "final_context_text = \"\\n\".join(context_text)"
      ],
      "metadata": {
        "id": "W7gqApj4cqWy"
      },
      "id": "W7gqApj4cqWy",
      "execution_count": null,
      "outputs": []
    },
    {
      "cell_type": "code",
      "source": [
        "prompt = f\"\"\" Instructions: Compare the images and the text provided as Context: to answer multiple Question:\n",
        "Make sure to think thoroughly before answering the question and put the necessary steps to arrive at the answer in bullet points for easy explainability.\n",
        "If unsure, respond, \"Not enough context to answer\".\n",
        "\n",
        "Context:\n",
        " - Text Context:\n",
        " {final_context_text}\n",
        "\n",
        "\n",
        "{test_question}\n",
        "\n",
        "Answer:\n",
        "\"\"\""
      ],
      "metadata": {
        "id": "CCN37vmoc1aD"
      },
      "id": "CCN37vmoc1aD",
      "execution_count": null,
      "outputs": []
    },
    {
      "cell_type": "code",
      "source": [
        "Markdown(\n",
        "    get_gemini_response(\n",
        "        multimodal_model,\n",
        "        model_input=[prompt],\n",
        "        stream=True,\n",
        "        generation_config=GenerationConfig(temperature=0.2, max_output_tokens=2048),\n",
        "    )\n",
        ")"
      ],
      "metadata": {
        "colab": {
          "base_uri": "https://localhost:8080/",
          "height": 128
        },
        "id": "9i8Bavm3c2I6",
        "outputId": "2e9acaf4-0ddd-4a4f-ee2e-566b63865a8a"
      },
      "id": "9i8Bavm3c2I6",
      "execution_count": null,
      "outputs": [
        {
          "output_type": "execute_result",
          "data": {
            "text/plain": [
              "<IPython.core.display.Markdown object>"
            ],
            "text/markdown": "Okay, let's break down the question and the context to arrive at the answer.\n\n*   **Identify the key information:** The question asks when humans invented fire.\n*   **Locate relevant information in the text:** The text states, \"Fire was another important tool, first used by Homo erectus about 1.6 million years ago.\"\n*   **Synthesize the information:** The text directly provides the answer to the question.\n\n**Answer:** According to the text, Homo erectus first used fire about 1.6 million years ago.\n"
          },
          "metadata": {},
          "execution_count": 102
        }
      ]
    }
  ],
  "metadata": {
    "kernelspec": {
      "display_name": "Python 3",
      "language": "python",
      "name": "python3"
    },
    "language_info": {
      "codemirror_mode": {
        "name": "ipython",
        "version": 3
      },
      "file_extension": ".py",
      "mimetype": "text/x-python",
      "name": "python",
      "nbconvert_exporter": "python",
      "pygments_lexer": "ipython3",
      "version": "3.10.10"
    },
    "colab": {
      "provenance": [],
      "include_colab_link": true
    }
  },
  "nbformat": 4,
  "nbformat_minor": 5
}